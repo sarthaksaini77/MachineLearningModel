{
 "cells": [
  {
   "cell_type": "code",
   "execution_count": 6,
   "id": "eb00737c",
   "metadata": {},
   "outputs": [],
   "source": [
    "# Age (numeric)\n",
    "# Sex (text: male, female)\n",
    "# Job (numeric: 0 - unskilled and non-resident, 1 - unskilled and resident, 2 - skilled, 3 - highly skilled)\n",
    "# Housing (text: own, rent, or free)\n",
    "# Saving accounts (text - little, moderate, quite rich, rich)\n",
    "# Checking account\n",
    "# Credit amount (numeric, in DM)\n",
    "# Duration (numeric, in month)\n",
    "# Purpose(text: car, furniture/equipment, radio/TV, domestic appliances, repairs, education, business, vacation/others\n",
    "# Risk (Value target - Good or Bad Risk)"
   ]
  },
  {
   "cell_type": "code",
   "execution_count": 7,
   "id": "19e274ae",
   "metadata": {},
   "outputs": [],
   "source": [
    "import warnings\n",
    "warnings.filterwarnings('ignore')"
   ]
  },
  {
   "cell_type": "code",
   "execution_count": 8,
   "id": "ae88ef66",
   "metadata": {},
   "outputs": [],
   "source": [
    "import pandas as pd\n",
    "import numpy as np\n",
    "import matplotlib.pyplot as plt\n",
    "import seaborn as sns\n",
    "import zipfile"
   ]
  },
  {
   "cell_type": "code",
   "execution_count": 12,
   "id": "013490e3",
   "metadata": {},
   "outputs": [
    {
     "data": {
      "text/html": [
       "<div>\n",
       "<style scoped>\n",
       "    .dataframe tbody tr th:only-of-type {\n",
       "        vertical-align: middle;\n",
       "    }\n",
       "\n",
       "    .dataframe tbody tr th {\n",
       "        vertical-align: top;\n",
       "    }\n",
       "\n",
       "    .dataframe thead th {\n",
       "        text-align: right;\n",
       "    }\n",
       "</style>\n",
       "<table border=\"1\" class=\"dataframe\">\n",
       "  <thead>\n",
       "    <tr style=\"text-align: right;\">\n",
       "      <th></th>\n",
       "      <th>Unnamed: 0</th>\n",
       "      <th>Age</th>\n",
       "      <th>Sex</th>\n",
       "      <th>Job</th>\n",
       "      <th>Housing</th>\n",
       "      <th>Saving accounts</th>\n",
       "      <th>Checking account</th>\n",
       "      <th>Credit amount</th>\n",
       "      <th>Duration</th>\n",
       "      <th>Purpose</th>\n",
       "      <th>Risk</th>\n",
       "    </tr>\n",
       "  </thead>\n",
       "  <tbody>\n",
       "    <tr>\n",
       "      <th>0</th>\n",
       "      <td>0</td>\n",
       "      <td>67</td>\n",
       "      <td>male</td>\n",
       "      <td>2</td>\n",
       "      <td>own</td>\n",
       "      <td>NaN</td>\n",
       "      <td>little</td>\n",
       "      <td>1169</td>\n",
       "      <td>6</td>\n",
       "      <td>radio/TV</td>\n",
       "      <td>good</td>\n",
       "    </tr>\n",
       "    <tr>\n",
       "      <th>1</th>\n",
       "      <td>1</td>\n",
       "      <td>22</td>\n",
       "      <td>female</td>\n",
       "      <td>2</td>\n",
       "      <td>own</td>\n",
       "      <td>little</td>\n",
       "      <td>moderate</td>\n",
       "      <td>5951</td>\n",
       "      <td>48</td>\n",
       "      <td>radio/TV</td>\n",
       "      <td>bad</td>\n",
       "    </tr>\n",
       "    <tr>\n",
       "      <th>2</th>\n",
       "      <td>2</td>\n",
       "      <td>49</td>\n",
       "      <td>male</td>\n",
       "      <td>1</td>\n",
       "      <td>own</td>\n",
       "      <td>little</td>\n",
       "      <td>NaN</td>\n",
       "      <td>2096</td>\n",
       "      <td>12</td>\n",
       "      <td>education</td>\n",
       "      <td>good</td>\n",
       "    </tr>\n",
       "    <tr>\n",
       "      <th>3</th>\n",
       "      <td>3</td>\n",
       "      <td>45</td>\n",
       "      <td>male</td>\n",
       "      <td>2</td>\n",
       "      <td>free</td>\n",
       "      <td>little</td>\n",
       "      <td>little</td>\n",
       "      <td>7882</td>\n",
       "      <td>42</td>\n",
       "      <td>furniture/equipment</td>\n",
       "      <td>good</td>\n",
       "    </tr>\n",
       "    <tr>\n",
       "      <th>4</th>\n",
       "      <td>4</td>\n",
       "      <td>53</td>\n",
       "      <td>male</td>\n",
       "      <td>2</td>\n",
       "      <td>free</td>\n",
       "      <td>little</td>\n",
       "      <td>little</td>\n",
       "      <td>4870</td>\n",
       "      <td>24</td>\n",
       "      <td>car</td>\n",
       "      <td>bad</td>\n",
       "    </tr>\n",
       "  </tbody>\n",
       "</table>\n",
       "</div>"
      ],
      "text/plain": [
       "   Unnamed: 0  Age     Sex  Job Housing Saving accounts Checking account  \\\n",
       "0           0   67    male    2     own             NaN           little   \n",
       "1           1   22  female    2     own          little         moderate   \n",
       "2           2   49    male    1     own          little              NaN   \n",
       "3           3   45    male    2    free          little           little   \n",
       "4           4   53    male    2    free          little           little   \n",
       "\n",
       "   Credit amount  Duration              Purpose  Risk  \n",
       "0           1169         6             radio/TV  good  \n",
       "1           5951        48             radio/TV   bad  \n",
       "2           2096        12            education  good  \n",
       "3           7882        42  furniture/equipment  good  \n",
       "4           4870        24                  car   bad  "
      ]
     },
     "execution_count": 12,
     "metadata": {},
     "output_type": "execute_result"
    }
   ],
   "source": [
    "df = pd.read_csv('german_credit_risk.zip',compression='zip')\n",
    "df.head()"
   ]
  },
  {
   "cell_type": "code",
   "execution_count": 13,
   "id": "3c1030b5",
   "metadata": {},
   "outputs": [
    {
     "data": {
      "text/plain": [
       "Index(['Age', 'Sex', 'Job', 'Housing', 'Saving accounts', 'Checking account',\n",
       "       'Credit amount', 'Duration', 'Purpose', 'Risk'],\n",
       "      dtype='object')"
      ]
     },
     "execution_count": 13,
     "metadata": {},
     "output_type": "execute_result"
    }
   ],
   "source": [
    "df.drop('Unnamed: 0',axis=1,inplace=True)\n",
    "df.columns"
   ]
  },
  {
   "cell_type": "code",
   "execution_count": 14,
   "id": "ccaec9a1",
   "metadata": {},
   "outputs": [
    {
     "data": {
      "text/plain": [
       "(1000, 10)"
      ]
     },
     "execution_count": 14,
     "metadata": {},
     "output_type": "execute_result"
    }
   ],
   "source": [
    "df.shape"
   ]
  },
  {
   "cell_type": "markdown",
   "id": "ebb8647f",
   "metadata": {},
   "source": [
    "#### Check null Values"
   ]
  },
  {
   "cell_type": "code",
   "execution_count": 6,
   "id": "68aa1ad1",
   "metadata": {},
   "outputs": [
    {
     "data": {
      "text/plain": [
       "Age                   0\n",
       "Sex                   0\n",
       "Job                   0\n",
       "Housing               0\n",
       "Saving accounts     183\n",
       "Checking account    394\n",
       "Credit amount         0\n",
       "Duration              0\n",
       "Purpose               0\n",
       "Risk                  0\n",
       "dtype: int64"
      ]
     },
     "execution_count": 6,
     "metadata": {},
     "output_type": "execute_result"
    }
   ],
   "source": [
    "df.isnull().sum()"
   ]
  },
  {
   "cell_type": "code",
   "execution_count": 15,
   "id": "6ccbc046",
   "metadata": {},
   "outputs": [
    {
     "data": {
      "text/plain": [
       "0"
      ]
     },
     "execution_count": 15,
     "metadata": {},
     "output_type": "execute_result"
    }
   ],
   "source": [
    "df.duplicated().sum()"
   ]
  },
  {
   "cell_type": "code",
   "execution_count": 16,
   "id": "b491aadf",
   "metadata": {},
   "outputs": [
    {
     "data": {
      "text/plain": [
       "Age                  int64\n",
       "Sex                 object\n",
       "Job                  int64\n",
       "Housing             object\n",
       "Saving accounts     object\n",
       "Checking account    object\n",
       "Credit amount        int64\n",
       "Duration             int64\n",
       "Purpose             object\n",
       "Risk                object\n",
       "dtype: object"
      ]
     },
     "execution_count": 16,
     "metadata": {},
     "output_type": "execute_result"
    }
   ],
   "source": [
    "df.dtypes"
   ]
  },
  {
   "cell_type": "code",
   "execution_count": 17,
   "id": "52aa1c89",
   "metadata": {},
   "outputs": [
    {
     "name": "stdout",
     "output_type": "stream",
     "text": [
      "Index(['Sex', 'Housing', 'Saving accounts', 'Checking account', 'Purpose',\n",
      "       'Risk'],\n",
      "      dtype='object')\n",
      "Index(['Age', 'Job', 'Credit amount', 'Duration'], dtype='object')\n"
     ]
    }
   ],
   "source": [
    "cat_cols = df.dtypes[df.dtypes=='object'].index\n",
    "# cat_cols = df.select_dtypes(include='object').columns\n",
    "\n",
    "num_cols = df.dtypes[df.dtypes!='object'].index\n",
    "print(cat_cols)\n",
    "print(num_cols)"
   ]
  },
  {
   "cell_type": "code",
   "execution_count": 18,
   "id": "f8626749",
   "metadata": {},
   "outputs": [
    {
     "name": "stdout",
     "output_type": "stream",
     "text": [
      "Sex ['male' 'female']\n",
      "Housing ['own' 'free' 'rent']\n",
      "Saving accounts [nan 'little' 'quite rich' 'rich' 'moderate']\n",
      "Checking account ['little' 'moderate' nan 'rich']\n",
      "Purpose ['radio/TV' 'education' 'furniture/equipment' 'car' 'business'\n",
      " 'domestic appliances' 'repairs' 'vacation/others']\n",
      "Risk ['good' 'bad']\n"
     ]
    }
   ],
   "source": [
    "for i in cat_cols:\n",
    "    print(i,df[i].unique())"
   ]
  },
  {
   "cell_type": "code",
   "execution_count": 19,
   "id": "475aa531",
   "metadata": {},
   "outputs": [
    {
     "data": {
      "text/plain": [
       "good    700\n",
       "bad     300\n",
       "Name: Risk, dtype: int64"
      ]
     },
     "execution_count": 19,
     "metadata": {},
     "output_type": "execute_result"
    }
   ],
   "source": [
    "df['Risk'].value_counts(dropna=True)"
   ]
  },
  {
   "cell_type": "code",
   "execution_count": 20,
   "id": "27023a48",
   "metadata": {},
   "outputs": [
    {
     "data": {
      "text/plain": [
       "2    630\n",
       "1    200\n",
       "3    148\n",
       "0     22\n",
       "Name: Job, dtype: int64"
      ]
     },
     "execution_count": 20,
     "metadata": {},
     "output_type": "execute_result"
    }
   ],
   "source": [
    "df['Job'].value_counts()"
   ]
  },
  {
   "cell_type": "code",
   "execution_count": 21,
   "id": "a85262ee",
   "metadata": {},
   "outputs": [
    {
     "data": {
      "image/png": "[encoded data removed]",
      "text/plain": [
       "<Figure size 1200x1500 with 7 Axes>"
      ]
     },
     "metadata": {},
     "output_type": "display_data"
    }
   ],
   "source": [
    "cols = ['Sex', 'Housing', 'Saving accounts', 'Checking account', \n",
    "        'Purpose','Risk','Job']\n",
    "\n",
    "plt.figure(figsize=(12,15))\n",
    "for i in range(len(cols)): \n",
    "    plt.subplot(4,2,i+1)  \n",
    "    sns.countplot(y=df[cols[i]])\n",
    "    plt.title(f'Countplot for {cols[i]}')\n",
    "\n",
    "plt.tight_layout()\n",
    "plt.show()"
   ]
  },
  {
   "cell_type": "code",
   "execution_count": 24,
   "id": "5e97dc32",
   "metadata": {},
   "outputs": [
    {
     "data": {
      "text/html": [
       "<div>\n",
       "<style scoped>\n",
       "    .dataframe tbody tr th:only-of-type {\n",
       "        vertical-align: middle;\n",
       "    }\n",
       "\n",
       "    .dataframe tbody tr th {\n",
       "        vertical-align: top;\n",
       "    }\n",
       "\n",
       "    .dataframe thead th {\n",
       "        text-align: right;\n",
       "    }\n",
       "</style>\n",
       "<table border=\"1\" class=\"dataframe\">\n",
       "  <thead>\n",
       "    <tr style=\"text-align: right;\">\n",
       "      <th></th>\n",
       "      <th>Age</th>\n",
       "      <th>Job</th>\n",
       "      <th>Credit amount</th>\n",
       "      <th>Duration</th>\n",
       "    </tr>\n",
       "  </thead>\n",
       "  <tbody>\n",
       "    <tr>\n",
       "      <th>count</th>\n",
       "      <td>1000.000000</td>\n",
       "      <td>1000.000000</td>\n",
       "      <td>1000.000000</td>\n",
       "      <td>1000.000000</td>\n",
       "    </tr>\n",
       "    <tr>\n",
       "      <th>mean</th>\n",
       "      <td>35.546000</td>\n",
       "      <td>1.904000</td>\n",
       "      <td>3271.258000</td>\n",
       "      <td>20.903000</td>\n",
       "    </tr>\n",
       "    <tr>\n",
       "      <th>std</th>\n",
       "      <td>11.375469</td>\n",
       "      <td>0.653614</td>\n",
       "      <td>2822.736876</td>\n",
       "      <td>12.058814</td>\n",
       "    </tr>\n",
       "    <tr>\n",
       "      <th>min</th>\n",
       "      <td>19.000000</td>\n",
       "      <td>0.000000</td>\n",
       "      <td>250.000000</td>\n",
       "      <td>4.000000</td>\n",
       "    </tr>\n",
       "    <tr>\n",
       "      <th>25%</th>\n",
       "      <td>27.000000</td>\n",
       "      <td>2.000000</td>\n",
       "      <td>1365.500000</td>\n",
       "      <td>12.000000</td>\n",
       "    </tr>\n",
       "    <tr>\n",
       "      <th>50%</th>\n",
       "      <td>33.000000</td>\n",
       "      <td>2.000000</td>\n",
       "      <td>2319.500000</td>\n",
       "      <td>18.000000</td>\n",
       "    </tr>\n",
       "    <tr>\n",
       "      <th>75%</th>\n",
       "      <td>42.000000</td>\n",
       "      <td>2.000000</td>\n",
       "      <td>3972.250000</td>\n",
       "      <td>24.000000</td>\n",
       "    </tr>\n",
       "    <tr>\n",
       "      <th>max</th>\n",
       "      <td>75.000000</td>\n",
       "      <td>3.000000</td>\n",
       "      <td>18424.000000</td>\n",
       "      <td>72.000000</td>\n",
       "    </tr>\n",
       "  </tbody>\n",
       "</table>\n",
       "</div>"
      ],
      "text/plain": [
       "               Age          Job  Credit amount     Duration\n",
       "count  1000.000000  1000.000000    1000.000000  1000.000000\n",
       "mean     35.546000     1.904000    3271.258000    20.903000\n",
       "std      11.375469     0.653614    2822.736876    12.058814\n",
       "min      19.000000     0.000000     250.000000     4.000000\n",
       "25%      27.000000     2.000000    1365.500000    12.000000\n",
       "50%      33.000000     2.000000    2319.500000    18.000000\n",
       "75%      42.000000     2.000000    3972.250000    24.000000\n",
       "max      75.000000     3.000000   18424.000000    72.000000"
      ]
     },
     "execution_count": 24,
     "metadata": {},
     "output_type": "execute_result"
    }
   ],
   "source": [
    "df.describe()"
   ]
  },
  {
   "cell_type": "code",
   "execution_count": 25,
   "id": "4851cc82",
   "metadata": {},
   "outputs": [
    {
     "data": {
      "image/png": "[encoded data removed]",
      "text/plain": [
       "<Figure size 1200x1500 with 6 Axes>"
      ]
     },
     "metadata": {},
     "output_type": "display_data"
    }
   ],
   "source": [
    "cols = ['Sex', 'Housing', 'Saving accounts', \n",
    "        'Checking account', 'Purpose','Job']\n",
    "\n",
    "plt.figure(figsize=(12,15))\n",
    "for i in range(len(cols)): \n",
    "    plt.subplot(3,2,i+1)  \n",
    "    sns.countplot(y=df[cols[i]],hue=df['Risk'])\n",
    "    plt.title(f'Countplot for {cols[i]} wrt Risk')\n",
    "\n",
    "plt.tight_layout()\n",
    "plt.show()"
   ]
  },
  {
   "cell_type": "code",
   "execution_count": 26,
   "id": "082ad5a0",
   "metadata": {},
   "outputs": [
    {
     "data": {
      "text/plain": [
       "Index(['Age', 'Job', 'Credit amount', 'Duration'], dtype='object')"
      ]
     },
     "execution_count": 26,
     "metadata": {},
     "output_type": "execute_result"
    }
   ],
   "source": [
    "num_cols"
   ]
  },
  {
   "cell_type": "code",
   "execution_count": 27,
   "id": "e90a3658",
   "metadata": {},
   "outputs": [
    {
     "data": {
      "text/plain": [
       "2    630\n",
       "1    200\n",
       "3    148\n",
       "0     22\n",
       "Name: Job, dtype: int64"
      ]
     },
     "execution_count": 27,
     "metadata": {},
     "output_type": "execute_result"
    }
   ],
   "source": [
    "df['Job'].value_counts()"
   ]
  },
  {
   "cell_type": "code",
   "execution_count": 28,
   "id": "7161aa99",
   "metadata": {},
   "outputs": [
    {
     "data": {
      "text/plain": [
       "24    184\n",
       "12    179\n",
       "18    113\n",
       "36     83\n",
       "6      75\n",
       "15     64\n",
       "9      49\n",
       "48     48\n",
       "30     40\n",
       "21     30\n",
       "10     28\n",
       "60     13\n",
       "27     13\n",
       "42     11\n",
       "11      9\n",
       "20      8\n",
       "8       7\n",
       "4       6\n",
       "45      5\n",
       "7       5\n",
       "39      5\n",
       "14      4\n",
       "13      4\n",
       "33      3\n",
       "28      3\n",
       "54      2\n",
       "16      2\n",
       "22      2\n",
       "47      1\n",
       "5       1\n",
       "26      1\n",
       "72      1\n",
       "40      1\n",
       "Name: Duration, dtype: int64"
      ]
     },
     "execution_count": 28,
     "metadata": {},
     "output_type": "execute_result"
    }
   ],
   "source": [
    "df['Duration'].value_counts()"
   ]
  },
  {
   "cell_type": "code",
   "execution_count": 30,
   "id": "988d84fd",
   "metadata": {},
   "outputs": [
    {
     "data": {
      "image/png": "[encoded data removed]",
      "text/plain": [
       "<Figure size 1200x1000 with 3 Axes>"
      ]
     },
     "metadata": {},
     "output_type": "display_data"
    }
   ],
   "source": [
    "cols = ['Age','Credit amount', 'Duration']\n",
    "\n",
    "plt.figure(figsize=(12,10))\n",
    "for i in range(len(cols)): \n",
    "    plt.subplot(2,2,i+1)\n",
    "    sns.boxplot(x=df[cols[i]])\n",
    "    plt.title(f'Boxplot for {cols[i]}')\n",
    "\n",
    "plt.tight_layout()\n",
    "plt.show()"
   ]
  },
  {
   "cell_type": "code",
   "execution_count": 31,
   "id": "52a2c85e",
   "metadata": {},
   "outputs": [
    {
     "data": {
      "image/png": "[encoded data removed]",
      "text/plain": [
       "<Figure size 1200x1000 with 3 Axes>"
      ]
     },
     "metadata": {},
     "output_type": "display_data"
    }
   ],
   "source": [
    "cols = ['Age','Credit amount', 'Duration']\n",
    "\n",
    "plt.figure(figsize=(12,10))\n",
    "for i in range(len(cols)): \n",
    "    plt.subplot(2,2,i+1)\n",
    "    sns.histplot(x=df[cols[i]],kde=True)\n",
    "    plt.title(f'Boxplot for {cols[i]}')\n",
    "\n",
    "plt.tight_layout()\n",
    "plt.show()"
   ]
  },
  {
   "cell_type": "code",
   "execution_count": 33,
   "id": "59b2036e",
   "metadata": {},
   "outputs": [
    {
     "data": {
      "text/plain": [
       "Saving accounts     183\n",
       "Checking account    394\n",
       "dtype: int64"
      ]
     },
     "execution_count": 33,
     "metadata": {},
     "output_type": "execute_result"
    }
   ],
   "source": [
    "nv = df.isnull().sum()\n",
    "nv = nv[nv>0]\n",
    "nv"
   ]
  },
  {
   "cell_type": "code",
   "execution_count": 34,
   "id": "d2620264",
   "metadata": {},
   "outputs": [
    {
     "data": {
      "text/plain": [
       "Risk  Saving accounts\n",
       "bad   little             217\n",
       "      moderate            34\n",
       "      quite rich          11\n",
       "      rich                 6\n",
       "good  little             386\n",
       "      moderate            69\n",
       "      quite rich          52\n",
       "      rich                42\n",
       "Name: Saving accounts, dtype: int64"
      ]
     },
     "execution_count": 34,
     "metadata": {},
     "output_type": "execute_result"
    }
   ],
   "source": [
    "df.groupby(['Risk','Saving accounts'])['Saving accounts'].count()"
   ]
  },
  {
   "cell_type": "code",
   "execution_count": 33,
   "id": "5682c519",
   "metadata": {},
   "outputs": [],
   "source": [
    "# df['Saving accounts'].value_counts()"
   ]
  },
  {
   "cell_type": "code",
   "execution_count": 35,
   "id": "b925c189",
   "metadata": {},
   "outputs": [],
   "source": [
    "df['Saving accounts'] = df['Saving accounts'].fillna('Unknown')"
   ]
  },
  {
   "cell_type": "code",
   "execution_count": 36,
   "id": "8ba6dfed",
   "metadata": {},
   "outputs": [
    {
     "data": {
      "text/plain": [
       "little        603\n",
       "Unknown       183\n",
       "moderate      103\n",
       "quite rich     63\n",
       "rich           48\n",
       "Name: Saving accounts, dtype: int64"
      ]
     },
     "execution_count": 36,
     "metadata": {},
     "output_type": "execute_result"
    }
   ],
   "source": [
    "df['Saving accounts'].value_counts()"
   ]
  },
  {
   "cell_type": "code",
   "execution_count": 37,
   "id": "1b379567",
   "metadata": {},
   "outputs": [
    {
     "data": {
      "text/plain": [
       "little      274\n",
       "moderate    269\n",
       "rich         63\n",
       "Name: Checking account, dtype: int64"
      ]
     },
     "execution_count": 37,
     "metadata": {},
     "output_type": "execute_result"
    }
   ],
   "source": [
    "df['Checking account'].value_counts()"
   ]
  },
  {
   "cell_type": "code",
   "execution_count": 38,
   "id": "0991c008",
   "metadata": {},
   "outputs": [
    {
     "data": {
      "text/plain": [
       "Risk  Checking account\n",
       "bad   little              135\n",
       "      moderate            105\n",
       "      rich                 14\n",
       "good  little              139\n",
       "      moderate            164\n",
       "      rich                 49\n",
       "Name: Checking account, dtype: int64"
      ]
     },
     "execution_count": 38,
     "metadata": {},
     "output_type": "execute_result"
    }
   ],
   "source": [
    "df.groupby(['Risk','Checking account'])['Checking account'].count()"
   ]
  },
  {
   "cell_type": "code",
   "execution_count": 39,
   "id": "70be922e",
   "metadata": {},
   "outputs": [],
   "source": [
    "df1 = df.copy()"
   ]
  },
  {
   "cell_type": "code",
   "execution_count": 40,
   "id": "fb714cde",
   "metadata": {},
   "outputs": [
    {
     "data": {
      "text/plain": [
       "1000"
      ]
     },
     "execution_count": 40,
     "metadata": {},
     "output_type": "execute_result"
    }
   ],
   "source": [
    "len(df)"
   ]
  },
  {
   "cell_type": "code",
   "execution_count": 46,
   "id": "1f792b4f",
   "metadata": {},
   "outputs": [
    {
     "data": {
      "text/plain": [
       "Risk  Checking account\n",
       "bad   little              135\n",
       "      moderate            105\n",
       "      rich                 14\n",
       "good  little              139\n",
       "      moderate            164\n",
       "      rich                 49\n",
       "Name: Checking account, dtype: int64"
      ]
     },
     "execution_count": 46,
     "metadata": {},
     "output_type": "execute_result"
    }
   ],
   "source": [
    "df.groupby(['Risk','Checking account'])['Checking account'].count()"
   ]
  },
  {
   "cell_type": "code",
   "execution_count": 47,
   "id": "e7a9d194",
   "metadata": {},
   "outputs": [
    {
     "name": "stdout",
     "output_type": "stream",
     "text": [
      "1000\n"
     ]
    },
    {
     "data": {
      "text/plain": [
       "0      moderate\n",
       "1        little\n",
       "2      moderate\n",
       "3      moderate\n",
       "4        little\n",
       "         ...   \n",
       "995    moderate\n",
       "996    moderate\n",
       "997    moderate\n",
       "998      little\n",
       "999    moderate\n",
       "Name: Checking account, Length: 1000, dtype: object"
      ]
     },
     "execution_count": 47,
     "metadata": {},
     "output_type": "execute_result"
    }
   ],
   "source": [
    "r1 = df.groupby(['Risk'])\n",
    "mode_grp = r1['Checking account'].transform(lambda x: x.mode()[0])\n",
    "print(len(mode_grp))\n",
    "mode_grp"
   ]
  },
  {
   "cell_type": "code",
   "execution_count": 52,
   "id": "d359581f",
   "metadata": {},
   "outputs": [
    {
     "data": {
      "text/plain": [
       "0      good\n",
       "1       bad\n",
       "2      good\n",
       "3      good\n",
       "4       bad\n",
       "       ... \n",
       "995    good\n",
       "996    good\n",
       "997    good\n",
       "998     bad\n",
       "999    good\n",
       "Name: Risk, Length: 1000, dtype: object"
      ]
     },
     "execution_count": 52,
     "metadata": {},
     "output_type": "execute_result"
    }
   ],
   "source": [
    "len(df['Risk'])\n",
    "df['Risk']"
   ]
  },
  {
   "cell_type": "code",
   "execution_count": 48,
   "id": "7626779f",
   "metadata": {},
   "outputs": [
    {
     "data": {
      "text/plain": [
       "moderate    700\n",
       "little      300\n",
       "Name: Checking account, dtype: int64"
      ]
     },
     "execution_count": 48,
     "metadata": {},
     "output_type": "execute_result"
    }
   ],
   "source": [
    "mode_grp.value_counts()"
   ]
  },
  {
   "cell_type": "code",
   "execution_count": 53,
   "id": "750989a1",
   "metadata": {},
   "outputs": [],
   "source": [
    "df['Checking account'] = df['Checking account'].fillna(mode_grp)"
   ]
  },
  {
   "cell_type": "code",
   "execution_count": 54,
   "id": "6fd02b6d",
   "metadata": {},
   "outputs": [
    {
     "data": {
      "text/plain": [
       "Risk  Checking account\n",
       "bad   little              181\n",
       "      moderate            105\n",
       "      rich                 14\n",
       "good  little              139\n",
       "      moderate            512\n",
       "      rich                 49\n",
       "Name: Checking account, dtype: int64"
      ]
     },
     "execution_count": 54,
     "metadata": {},
     "output_type": "execute_result"
    }
   ],
   "source": [
    "df.groupby(['Risk','Checking account'])['Checking account'].count()\n",
    "# Risk  Checking account\n",
    "# bad   little              135\n",
    "#       moderate            105\n",
    "#       rich                 14\n",
    "# good  little              139\n",
    "#       moderate            164\n",
    "#       rich                 49"
   ]
  },
  {
   "cell_type": "code",
   "execution_count": 55,
   "id": "30fffefa",
   "metadata": {},
   "outputs": [
    {
     "data": {
      "text/plain": [
       "moderate    617\n",
       "little      320\n",
       "rich         63\n",
       "Name: Checking account, dtype: int64"
      ]
     },
     "execution_count": 55,
     "metadata": {},
     "output_type": "execute_result"
    }
   ],
   "source": [
    "df['Checking account'].value_counts()"
   ]
  },
  {
   "cell_type": "code",
   "execution_count": 56,
   "id": "70e03a65",
   "metadata": {},
   "outputs": [
    {
     "data": {
      "text/plain": [
       "Age                 0\n",
       "Sex                 0\n",
       "Job                 0\n",
       "Housing             0\n",
       "Saving accounts     0\n",
       "Checking account    0\n",
       "Credit amount       0\n",
       "Duration            0\n",
       "Purpose             0\n",
       "Risk                0\n",
       "dtype: int64"
      ]
     },
     "execution_count": 56,
     "metadata": {},
     "output_type": "execute_result"
    }
   ],
   "source": [
    "df.isnull().sum()"
   ]
  },
  {
   "cell_type": "code",
   "execution_count": 57,
   "id": "fbc4dab5",
   "metadata": {},
   "outputs": [
    {
     "data": {
      "text/plain": [
       "24    184\n",
       "12    179\n",
       "18    113\n",
       "36     83\n",
       "6      75\n",
       "15     64\n",
       "9      49\n",
       "48     48\n",
       "30     40\n",
       "21     30\n",
       "10     28\n",
       "60     13\n",
       "27     13\n",
       "42     11\n",
       "11      9\n",
       "20      8\n",
       "8       7\n",
       "4       6\n",
       "45      5\n",
       "7       5\n",
       "39      5\n",
       "14      4\n",
       "13      4\n",
       "33      3\n",
       "28      3\n",
       "54      2\n",
       "16      2\n",
       "22      2\n",
       "47      1\n",
       "5       1\n",
       "26      1\n",
       "72      1\n",
       "40      1\n",
       "Name: Duration, dtype: int64"
      ]
     },
     "execution_count": 57,
     "metadata": {},
     "output_type": "execute_result"
    }
   ],
   "source": [
    "df['Duration'].value_counts()"
   ]
  },
  {
   "cell_type": "code",
   "execution_count": 58,
   "id": "646f1339",
   "metadata": {},
   "outputs": [
    {
     "data": {
      "image/png": "[encoded data removed]",
      "text/plain": [
       "<Figure size 700x700 with 2 Axes>"
      ]
     },
     "metadata": {},
     "output_type": "display_data"
    }
   ],
   "source": [
    "corr = df[num_cols].corr()\n",
    "\n",
    "plt.figure(figsize=(7,7))\n",
    "sns.heatmap(corr,annot=True,cmap='RdBu')  # annot= True => annotation\n",
    "plt.show()"
   ]
  },
  {
   "cell_type": "markdown",
   "id": "543b16c4",
   "metadata": {},
   "source": [
    "#### Outlier Treatment"
   ]
  },
  {
   "cell_type": "code",
   "execution_count": 59,
   "id": "f63e0658",
   "metadata": {},
   "outputs": [
    {
     "data": {
      "text/html": [
       "<div>\n",
       "<style scoped>\n",
       "    .dataframe tbody tr th:only-of-type {\n",
       "        vertical-align: middle;\n",
       "    }\n",
       "\n",
       "    .dataframe tbody tr th {\n",
       "        vertical-align: top;\n",
       "    }\n",
       "\n",
       "    .dataframe thead th {\n",
       "        text-align: right;\n",
       "    }\n",
       "</style>\n",
       "<table border=\"1\" class=\"dataframe\">\n",
       "  <thead>\n",
       "    <tr style=\"text-align: right;\">\n",
       "      <th></th>\n",
       "      <th>min</th>\n",
       "      <th>1%</th>\n",
       "      <th>2%</th>\n",
       "      <th>3%</th>\n",
       "      <th>50%</th>\n",
       "      <th>97%</th>\n",
       "      <th>98%</th>\n",
       "      <th>99%</th>\n",
       "      <th>max</th>\n",
       "    </tr>\n",
       "  </thead>\n",
       "  <tbody>\n",
       "    <tr>\n",
       "      <th>Age</th>\n",
       "      <td>19.0</td>\n",
       "      <td>20.00</td>\n",
       "      <td>21.00</td>\n",
       "      <td>21.97</td>\n",
       "      <td>33.0</td>\n",
       "      <td>63.00</td>\n",
       "      <td>65.0</td>\n",
       "      <td>67.01</td>\n",
       "      <td>75.0</td>\n",
       "    </tr>\n",
       "    <tr>\n",
       "      <th>Job</th>\n",
       "      <td>0.0</td>\n",
       "      <td>0.00</td>\n",
       "      <td>0.00</td>\n",
       "      <td>1.00</td>\n",
       "      <td>2.0</td>\n",
       "      <td>3.00</td>\n",
       "      <td>3.0</td>\n",
       "      <td>3.00</td>\n",
       "      <td>3.0</td>\n",
       "    </tr>\n",
       "    <tr>\n",
       "      <th>Credit amount</th>\n",
       "      <td>250.0</td>\n",
       "      <td>425.83</td>\n",
       "      <td>570.02</td>\n",
       "      <td>638.70</td>\n",
       "      <td>2319.5</td>\n",
       "      <td>10961.39</td>\n",
       "      <td>12169.7</td>\n",
       "      <td>14180.39</td>\n",
       "      <td>18424.0</td>\n",
       "    </tr>\n",
       "    <tr>\n",
       "      <th>Duration</th>\n",
       "      <td>4.0</td>\n",
       "      <td>6.00</td>\n",
       "      <td>6.00</td>\n",
       "      <td>6.00</td>\n",
       "      <td>18.0</td>\n",
       "      <td>48.00</td>\n",
       "      <td>48.0</td>\n",
       "      <td>60.00</td>\n",
       "      <td>72.0</td>\n",
       "    </tr>\n",
       "  </tbody>\n",
       "</table>\n",
       "</div>"
      ],
      "text/plain": [
       "                 min      1%      2%      3%     50%       97%      98%  \\\n",
       "Age             19.0   20.00   21.00   21.97    33.0     63.00     65.0   \n",
       "Job              0.0    0.00    0.00    1.00     2.0      3.00      3.0   \n",
       "Credit amount  250.0  425.83  570.02  638.70  2319.5  10961.39  12169.7   \n",
       "Duration         4.0    6.00    6.00    6.00    18.0     48.00     48.0   \n",
       "\n",
       "                    99%      max  \n",
       "Age               67.01     75.0  \n",
       "Job                3.00      3.0  \n",
       "Credit amount  14180.39  18424.0  \n",
       "Duration          60.00     72.0  "
      ]
     },
     "execution_count": 59,
     "metadata": {},
     "output_type": "execute_result"
    }
   ],
   "source": [
    "a = df[num_cols].describe(percentiles =[0.01,0.02,0.03,0.97,0.98,0.99]).T\n",
    "a = a.iloc[:,3:]\n",
    "a"
   ]
  },
  {
   "cell_type": "code",
   "execution_count": 60,
   "id": "fac48de8",
   "metadata": {},
   "outputs": [
    {
     "data": {
      "text/plain": [
       "(1, 10)"
      ]
     },
     "execution_count": 60,
     "metadata": {},
     "output_type": "execute_result"
    }
   ],
   "source": [
    "df[df['Duration']>60].shape"
   ]
  },
  {
   "cell_type": "code",
   "execution_count": 61,
   "id": "ddd13518",
   "metadata": {},
   "outputs": [],
   "source": [
    "cols_right_skewed = ['Age','Credit amount','Duration']\n",
    "\n",
    "def upper_outlier_treatment(x):\n",
    "    x = x.clip(upper = x.quantile(0.99))\n",
    "    return x"
   ]
  },
  {
   "cell_type": "code",
   "execution_count": 62,
   "id": "5b55f233",
   "metadata": {},
   "outputs": [],
   "source": [
    "df[cols_right_skewed] = df[cols_right_skewed].apply(upper_outlier_treatment)"
   ]
  },
  {
   "cell_type": "code",
   "execution_count": 63,
   "id": "bba88851",
   "metadata": {},
   "outputs": [],
   "source": [
    "cols_left_skewed = ['Age','Credit amount']\n",
    "\n",
    "def lower_outlier_treatment(x):\n",
    "    x = x.clip(lower = x.quantile(0.01))\n",
    "    return x"
   ]
  },
  {
   "cell_type": "code",
   "execution_count": 64,
   "id": "f4d6bc57",
   "metadata": {},
   "outputs": [],
   "source": [
    "df[cols_left_skewed] = df[cols_left_skewed].apply(lower_outlier_treatment)"
   ]
  },
  {
   "cell_type": "code",
   "execution_count": 66,
   "id": "811fce27",
   "metadata": {},
   "outputs": [
    {
     "data": {
      "text/html": [
       "<div>\n",
       "<style scoped>\n",
       "    .dataframe tbody tr th:only-of-type {\n",
       "        vertical-align: middle;\n",
       "    }\n",
       "\n",
       "    .dataframe tbody tr th {\n",
       "        vertical-align: top;\n",
       "    }\n",
       "\n",
       "    .dataframe thead th {\n",
       "        text-align: right;\n",
       "    }\n",
       "</style>\n",
       "<table border=\"1\" class=\"dataframe\">\n",
       "  <thead>\n",
       "    <tr style=\"text-align: right;\">\n",
       "      <th></th>\n",
       "      <th>min</th>\n",
       "      <th>1%</th>\n",
       "      <th>2%</th>\n",
       "      <th>3%</th>\n",
       "      <th>50%</th>\n",
       "      <th>97%</th>\n",
       "      <th>98%</th>\n",
       "      <th>99%</th>\n",
       "      <th>max</th>\n",
       "    </tr>\n",
       "  </thead>\n",
       "  <tbody>\n",
       "    <tr>\n",
       "      <th>Age</th>\n",
       "      <td>20.00</td>\n",
       "      <td>20.0000</td>\n",
       "      <td>21.00</td>\n",
       "      <td>21.97</td>\n",
       "      <td>33.0</td>\n",
       "      <td>63.00</td>\n",
       "      <td>65.0</td>\n",
       "      <td>67.0001</td>\n",
       "      <td>67.01</td>\n",
       "    </tr>\n",
       "    <tr>\n",
       "      <th>Job</th>\n",
       "      <td>0.00</td>\n",
       "      <td>0.0000</td>\n",
       "      <td>0.00</td>\n",
       "      <td>1.00</td>\n",
       "      <td>2.0</td>\n",
       "      <td>3.00</td>\n",
       "      <td>3.0</td>\n",
       "      <td>3.0000</td>\n",
       "      <td>3.00</td>\n",
       "    </tr>\n",
       "    <tr>\n",
       "      <th>Credit amount</th>\n",
       "      <td>425.83</td>\n",
       "      <td>425.9983</td>\n",
       "      <td>570.02</td>\n",
       "      <td>638.70</td>\n",
       "      <td>2319.5</td>\n",
       "      <td>10961.39</td>\n",
       "      <td>12169.7</td>\n",
       "      <td>14179.0139</td>\n",
       "      <td>14180.39</td>\n",
       "    </tr>\n",
       "    <tr>\n",
       "      <th>Duration</th>\n",
       "      <td>4.00</td>\n",
       "      <td>6.0000</td>\n",
       "      <td>6.00</td>\n",
       "      <td>6.00</td>\n",
       "      <td>18.0</td>\n",
       "      <td>48.00</td>\n",
       "      <td>48.0</td>\n",
       "      <td>60.0000</td>\n",
       "      <td>60.00</td>\n",
       "    </tr>\n",
       "  </tbody>\n",
       "</table>\n",
       "</div>"
      ],
      "text/plain": [
       "                  min        1%      2%      3%     50%       97%      98%  \\\n",
       "Age             20.00   20.0000   21.00   21.97    33.0     63.00     65.0   \n",
       "Job              0.00    0.0000    0.00    1.00     2.0      3.00      3.0   \n",
       "Credit amount  425.83  425.9983  570.02  638.70  2319.5  10961.39  12169.7   \n",
       "Duration         4.00    6.0000    6.00    6.00    18.0     48.00     48.0   \n",
       "\n",
       "                      99%       max  \n",
       "Age               67.0001     67.01  \n",
       "Job                3.0000      3.00  \n",
       "Credit amount  14179.0139  14180.39  \n",
       "Duration          60.0000     60.00  "
      ]
     },
     "execution_count": 66,
     "metadata": {},
     "output_type": "execute_result"
    }
   ],
   "source": [
    "a = df[num_cols].describe(percentiles =[0.01,0.02,0.03,0.97,0.98,0.99]).T\n",
    "a = a.iloc[:,3:]\n",
    "a"
   ]
  },
  {
   "cell_type": "markdown",
   "id": "8e615914",
   "metadata": {},
   "source": [
    "#### Encoding"
   ]
  },
  {
   "cell_type": "code",
   "execution_count": 67,
   "id": "e5c337c1",
   "metadata": {},
   "outputs": [
    {
     "data": {
      "text/plain": [
       "Age                 float64\n",
       "Sex                  object\n",
       "Job                   int64\n",
       "Housing              object\n",
       "Saving accounts      object\n",
       "Checking account     object\n",
       "Credit amount       float64\n",
       "Duration              int64\n",
       "Purpose              object\n",
       "Risk                 object\n",
       "dtype: object"
      ]
     },
     "execution_count": 67,
     "metadata": {},
     "output_type": "execute_result"
    }
   ],
   "source": [
    "df.dtypes"
   ]
  },
  {
   "cell_type": "code",
   "execution_count": 74,
   "id": "738e448d",
   "metadata": {},
   "outputs": [
    {
     "name": "stdout",
     "output_type": "stream",
     "text": [
      "(1000, 21)\n",
      "Index(['Age', 'Job', 'Credit amount', 'Duration', 'Risk', 'Sex_male',\n",
      "       'Housing_own', 'Housing_rent', 'Saving accounts_little',\n",
      "       'Saving accounts_moderate', 'Saving accounts_quite rich',\n",
      "       'Saving accounts_rich', 'Checking account_moderate',\n",
      "       'Checking account_rich', 'Purpose_car', 'Purpose_domestic appliances',\n",
      "       'Purpose_education', 'Purpose_furniture/equipment', 'Purpose_radio/TV',\n",
      "       'Purpose_repairs', 'Purpose_vacation/others'],\n",
      "      dtype='object')\n"
     ]
    }
   ],
   "source": [
    "cols = ['Sex','Housing','Saving accounts','Checking account','Purpose']\n",
    "\n",
    "df_dum = pd.get_dummies(data=df,columns=cols,drop_first=True)\n",
    "print(df_dum.shape)\n",
    "print(df_dum.columns)"
   ]
  },
  {
   "cell_type": "code",
   "execution_count": 76,
   "id": "6699171a",
   "metadata": {},
   "outputs": [
    {
     "data": {
      "text/plain": [
       "good    700\n",
       "bad     300\n",
       "Name: Risk, dtype: int64"
      ]
     },
     "execution_count": 76,
     "metadata": {},
     "output_type": "execute_result"
    }
   ],
   "source": [
    "df['Risk'].value_counts()"
   ]
  },
  {
   "cell_type": "code",
   "execution_count": null,
   "id": "208c8a60",
   "metadata": {},
   "outputs": [],
   "source": [
    "### Majority : minority  : 70:30, 85:15  or more and Minority class is significant\n",
    "# Inference = > Data Imbalance => Synthentic Data => Minority class\n",
    "\n",
    "# Setsosa :  100\n",
    "# Versicolor :  75\n",
    "# Virginica : 35\n"
   ]
  },
  {
   "cell_type": "markdown",
   "id": "b2cee0c0",
   "metadata": {},
   "source": [
    "#### Select x and y"
   ]
  },
  {
   "cell_type": "code",
   "execution_count": 78,
   "id": "dcef99b4",
   "metadata": {},
   "outputs": [
    {
     "name": "stdout",
     "output_type": "stream",
     "text": [
      "(1000, 20)\n",
      "(1000,)\n"
     ]
    }
   ],
   "source": [
    "x = df_dum.drop(['Risk'],axis=1)  # independent features\n",
    "y = df_dum['Risk']                # dependent feature\n",
    "print(x.shape)\n",
    "print(y.shape)"
   ]
  },
  {
   "cell_type": "code",
   "execution_count": 79,
   "id": "8a07261f",
   "metadata": {},
   "outputs": [
    {
     "data": {
      "text/plain": [
       "Age                            float64\n",
       "Job                              int64\n",
       "Credit amount                  float64\n",
       "Duration                         int64\n",
       "Sex_male                         uint8\n",
       "Housing_own                      uint8\n",
       "Housing_rent                     uint8\n",
       "Saving accounts_little           uint8\n",
       "Saving accounts_moderate         uint8\n",
       "Saving accounts_quite rich       uint8\n",
       "Saving accounts_rich             uint8\n",
       "Checking account_moderate        uint8\n",
       "Checking account_rich            uint8\n",
       "Purpose_car                      uint8\n",
       "Purpose_domestic appliances      uint8\n",
       "Purpose_education                uint8\n",
       "Purpose_furniture/equipment      uint8\n",
       "Purpose_radio/TV                 uint8\n",
       "Purpose_repairs                  uint8\n",
       "Purpose_vacation/others          uint8\n",
       "dtype: object"
      ]
     },
     "execution_count": 79,
     "metadata": {},
     "output_type": "execute_result"
    }
   ],
   "source": [
    "x.dtypes"
   ]
  },
  {
   "cell_type": "markdown",
   "id": "22a95d3a",
   "metadata": {},
   "source": [
    "#### Split data into train and test"
   ]
  },
  {
   "cell_type": "code",
   "execution_count": 80,
   "id": "2933e25d",
   "metadata": {},
   "outputs": [],
   "source": [
    "from sklearn.model_selection import train_test_split"
   ]
  },
  {
   "cell_type": "code",
   "execution_count": 81,
   "id": "6a7a0c87",
   "metadata": {},
   "outputs": [
    {
     "name": "stdout",
     "output_type": "stream",
     "text": [
      "(700, 20)\n",
      "(300, 20)\n",
      "(700,)\n",
      "(300,)\n"
     ]
    }
   ],
   "source": [
    "x_train,x_test, y_train,y_test = train_test_split(x,y,test_size=0.30,random_state=40)\n",
    "print(x_train.shape)\n",
    "print(x_test.shape)\n",
    "print(y_train.shape)\n",
    "print(y_test.shape)"
   ]
  },
  {
   "cell_type": "code",
   "execution_count": 82,
   "id": "efe02e09",
   "metadata": {},
   "outputs": [
    {
     "data": {
      "text/plain": [
       "0      good\n",
       "1       bad\n",
       "2      good\n",
       "3      good\n",
       "4       bad\n",
       "       ... \n",
       "995    good\n",
       "996    good\n",
       "997    good\n",
       "998     bad\n",
       "999    good\n",
       "Name: Risk, Length: 1000, dtype: object"
      ]
     },
     "execution_count": 82,
     "metadata": {},
     "output_type": "execute_result"
    }
   ],
   "source": [
    "y"
   ]
  },
  {
   "cell_type": "code",
   "execution_count": 83,
   "id": "e944d278",
   "metadata": {},
   "outputs": [],
   "source": [
    "from sklearn.metrics import *"
   ]
  },
  {
   "cell_type": "code",
   "execution_count": 89,
   "id": "f6bd1e48",
   "metadata": {},
   "outputs": [],
   "source": [
    "def eval_model(model,x_train,x_test,y_train,y_test,model_name):\n",
    "    \"model : instance of ML model\"\n",
    "    model.fit(x_train,y_train)\n",
    "    ypred = model.predict(x_test)\n",
    "    train_acc = model.score(x_train,y_train)\n",
    "    test_acc = model.score(x_test,y_test)\n",
    "    pre_good = precision_score(y_test,ypred,pos_label='good')\n",
    "    rec_good = recall_score(y_test,ypred,pos_label='good')\n",
    "    res = pd.DataFrame({'Train_acc':train_acc,'Test_Acc':test_acc,\n",
    "                        'Pre_Good':pre_good,'Rec_Good':rec_good},\n",
    "                      index=[model_name])\n",
    "    print(confusion_matrix(y_test,ypred))\n",
    "    print(classification_report(y_test,ypred))\n",
    "    return res,ypred"
   ]
  },
  {
   "cell_type": "code",
   "execution_count": 86,
   "id": "b724704f",
   "metadata": {},
   "outputs": [],
   "source": [
    "from sklearn.linear_model import LogisticRegression\n",
    "from sklearn.tree import DecisionTreeClassifier"
   ]
  },
  {
   "cell_type": "markdown",
   "id": "219b5bd8",
   "metadata": {},
   "source": [
    "#### 1) Log Reg"
   ]
  },
  {
   "cell_type": "code",
   "execution_count": 104,
   "id": "af79e79a",
   "metadata": {},
   "outputs": [
    {
     "name": "stdout",
     "output_type": "stream",
     "text": [
      "[[ 36  46]\n",
      " [ 33 185]]\n",
      "              precision    recall  f1-score   support\n",
      "\n",
      "         bad       0.52      0.44      0.48        82\n",
      "        good       0.80      0.85      0.82       218\n",
      "\n",
      "    accuracy                           0.74       300\n",
      "   macro avg       0.66      0.64      0.65       300\n",
      "weighted avg       0.72      0.74      0.73       300\n",
      "\n"
     ]
    }
   ],
   "source": [
    "lr1  = LogisticRegression(max_iter=1000,random_state=25)\n",
    "lr1_res,ypred_lr1 = eval_model(lr1,x_train, x_test, y_train, y_test,'Log_Reg')\n",
    "\n",
    "# [TN FN]\n",
    "# [FP TP]"
   ]
  },
  {
   "cell_type": "code",
   "execution_count": 105,
   "id": "b62d0935",
   "metadata": {},
   "outputs": [
    {
     "data": {
      "text/html": [
       "<div>\n",
       "<style scoped>\n",
       "    .dataframe tbody tr th:only-of-type {\n",
       "        vertical-align: middle;\n",
       "    }\n",
       "\n",
       "    .dataframe tbody tr th {\n",
       "        vertical-align: top;\n",
       "    }\n",
       "\n",
       "    .dataframe thead th {\n",
       "        text-align: right;\n",
       "    }\n",
       "</style>\n",
       "<table border=\"1\" class=\"dataframe\">\n",
       "  <thead>\n",
       "    <tr style=\"text-align: right;\">\n",
       "      <th></th>\n",
       "      <th>Train_acc</th>\n",
       "      <th>Test_Acc</th>\n",
       "      <th>Pre_Good</th>\n",
       "      <th>Rec_Good</th>\n",
       "    </tr>\n",
       "  </thead>\n",
       "  <tbody>\n",
       "    <tr>\n",
       "      <th>Log_Reg</th>\n",
       "      <td>0.768571</td>\n",
       "      <td>0.736667</td>\n",
       "      <td>0.800866</td>\n",
       "      <td>0.848624</td>\n",
       "    </tr>\n",
       "  </tbody>\n",
       "</table>\n",
       "</div>"
      ],
      "text/plain": [
       "         Train_acc  Test_Acc  Pre_Good  Rec_Good\n",
       "Log_Reg   0.768571  0.736667  0.800866  0.848624"
      ]
     },
     "execution_count": 105,
     "metadata": {},
     "output_type": "execute_result"
    }
   ],
   "source": [
    "lr1_res"
   ]
  },
  {
   "cell_type": "code",
   "execution_count": 106,
   "id": "b957c0ab",
   "metadata": {},
   "outputs": [
    {
     "name": "stdout",
     "output_type": "stream",
     "text": [
      "[[0.08929122 0.91070878]\n",
      " [0.03425037 0.96574963]\n",
      " [0.45720525 0.54279475]\n",
      " [0.55398391 0.44601609]\n",
      " [0.66052992 0.33947008]]\n"
     ]
    }
   ],
   "source": [
    "ypred_proba_lr1  = lr1.predict_proba(x_test)\n",
    "print(ypred_proba_lr1[:5])"
   ]
  },
  {
   "cell_type": "code",
   "execution_count": 107,
   "id": "967afa0b",
   "metadata": {},
   "outputs": [],
   "source": [
    "from sklearn.metrics import roc_auc_score,roc_curve\n",
    "# TPR, Thresh, FPR"
   ]
  },
  {
   "cell_type": "code",
   "execution_count": 108,
   "id": "74d46332",
   "metadata": {},
   "outputs": [
    {
     "data": {
      "image/png": "[encoded data removed]",
      "text/plain": [
       "<Figure size 640x480 with 1 Axes>"
      ]
     },
     "metadata": {},
     "output_type": "display_data"
    }
   ],
   "source": [
    "fpr,tpr, thresh = roc_curve(y_test,ypred_proba_lr1[:,1],pos_label='good')\n",
    "auc_score = roc_auc_score(y_test,ypred_proba_lr1[:,1])\n",
    "plt.plot(fpr,tpr,label=f'AUC = {str(auc_score)}')\n",
    "plt.plot([0,1],[0,1],label='TPR=FPR')\n",
    "plt.title('ROC-AUC Curve')\n",
    "plt.xlabel('FPR')\n",
    "plt.ylabel('TPR')\n",
    "plt.legend()\n",
    "plt.show()"
   ]
  },
  {
   "cell_type": "code",
   "execution_count": 98,
   "id": "06d53ba8",
   "metadata": {},
   "outputs": [],
   "source": [
    "### Best Threshold\n",
    "\n",
    "# 1) thresh[np.argmax(tpr-fpr)]\n",
    "# 2) thresh[np.argmax(tpr*(1-fpr)]\n",
    "# 3) thresh[np.argmax(np.sqrt(tpr*(1-fpr))]"
   ]
  },
  {
   "cell_type": "code",
   "execution_count": 109,
   "id": "92338709",
   "metadata": {},
   "outputs": [
    {
     "name": "stdout",
     "output_type": "stream",
     "text": [
      "0.7581284547922027\n"
     ]
    }
   ],
   "source": [
    "bthresh1 = thresh[np.argmax(tpr-fpr)]\n",
    "print(bthresh1)"
   ]
  },
  {
   "cell_type": "code",
   "execution_count": 110,
   "id": "01eee06d",
   "metadata": {},
   "outputs": [
    {
     "name": "stdout",
     "output_type": "stream",
     "text": [
      "0.7581284547922027\n"
     ]
    }
   ],
   "source": [
    "bthresh2 = thresh[np.argmax(tpr*(1-fpr))]\n",
    "print(bthresh2)"
   ]
  },
  {
   "cell_type": "code",
   "execution_count": 111,
   "id": "229433e9",
   "metadata": {},
   "outputs": [
    {
     "name": "stdout",
     "output_type": "stream",
     "text": [
      "[1 1 0 0 0 0 0 1 0 1]\n"
     ]
    }
   ],
   "source": [
    "ypred_lr1_new = np.where(ypred_proba_lr1[:,1]>bthresh2,1,0)\n",
    "# ypred_lr1_new = np.where(ypred_proba_lr1[:,1]>bthresh2,'good','bad')\n",
    "print(ypred_lr1_new[:10])"
   ]
  },
  {
   "cell_type": "code",
   "execution_count": 113,
   "id": "798d4d33",
   "metadata": {},
   "outputs": [
    {
     "name": "stdout",
     "output_type": "stream",
     "text": [
      "[1 1 0 1 1]\n"
     ]
    }
   ],
   "source": [
    "y_test_new = np.where(y_test=='good',1,0)\n",
    "print(y_test_new[:5])"
   ]
  },
  {
   "cell_type": "code",
   "execution_count": 115,
   "id": "4149dfb1",
   "metadata": {},
   "outputs": [
    {
     "name": "stdout",
     "output_type": "stream",
     "text": [
      "[[ 66  16]\n",
      " [ 72 146]]\n",
      "              precision    recall  f1-score   support\n",
      "\n",
      "           0       0.48      0.80      0.60        82\n",
      "           1       0.90      0.67      0.77       218\n",
      "\n",
      "    accuracy                           0.71       300\n",
      "   macro avg       0.69      0.74      0.68       300\n",
      "weighted avg       0.79      0.71      0.72       300\n",
      "\n"
     ]
    }
   ],
   "source": [
    "cm_new = confusion_matrix(y_test_new,ypred_lr1_new)\n",
    "crep_new = classification_report(y_test_new,ypred_lr1_new)\n",
    "print(cm_new)\n",
    "print(crep_new)"
   ]
  },
  {
   "cell_type": "markdown",
   "id": "c6358ec3",
   "metadata": {},
   "source": [
    "### Decision Tree Model"
   ]
  },
  {
   "cell_type": "code",
   "execution_count": 123,
   "id": "410ee6ea",
   "metadata": {},
   "outputs": [
    {
     "name": "stdout",
     "output_type": "stream",
     "text": [
      "[[ 43  39]\n",
      " [ 61 157]]\n",
      "              precision    recall  f1-score   support\n",
      "\n",
      "         bad       0.41      0.52      0.46        82\n",
      "        good       0.80      0.72      0.76       218\n",
      "\n",
      "    accuracy                           0.67       300\n",
      "   macro avg       0.61      0.62      0.61       300\n",
      "weighted avg       0.70      0.67      0.68       300\n",
      "\n"
     ]
    },
    {
     "data": {
      "text/html": [
       "<div>\n",
       "<style scoped>\n",
       "    .dataframe tbody tr th:only-of-type {\n",
       "        vertical-align: middle;\n",
       "    }\n",
       "\n",
       "    .dataframe tbody tr th {\n",
       "        vertical-align: top;\n",
       "    }\n",
       "\n",
       "    .dataframe thead th {\n",
       "        text-align: right;\n",
       "    }\n",
       "</style>\n",
       "<table border=\"1\" class=\"dataframe\">\n",
       "  <thead>\n",
       "    <tr style=\"text-align: right;\">\n",
       "      <th></th>\n",
       "      <th>Train_acc</th>\n",
       "      <th>Test_Acc</th>\n",
       "      <th>Pre_Good</th>\n",
       "      <th>Rec_Good</th>\n",
       "    </tr>\n",
       "  </thead>\n",
       "  <tbody>\n",
       "    <tr>\n",
       "      <th>DT1(No Pruning)</th>\n",
       "      <td>1.0</td>\n",
       "      <td>0.666667</td>\n",
       "      <td>0.80102</td>\n",
       "      <td>0.720183</td>\n",
       "    </tr>\n",
       "  </tbody>\n",
       "</table>\n",
       "</div>"
      ],
      "text/plain": [
       "                 Train_acc  Test_Acc  Pre_Good  Rec_Good\n",
       "DT1(No Pruning)        1.0  0.666667   0.80102  0.720183"
      ]
     },
     "execution_count": 123,
     "metadata": {},
     "output_type": "execute_result"
    }
   ],
   "source": [
    "dt1 = DecisionTreeClassifier(criterion='gini',random_state=10) \n",
    "dt1_res,ypred_dt1 = eval_model(dt1, x_train, x_test, y_train, y_test,'DT1(No Pruning)')\n",
    "dt1_res"
   ]
  },
  {
   "cell_type": "code",
   "execution_count": 124,
   "id": "a604ffd0",
   "metadata": {},
   "outputs": [
    {
     "name": "stdout",
     "output_type": "stream",
     "text": [
      "[[ 39  43]\n",
      " [ 40 178]]\n",
      "              precision    recall  f1-score   support\n",
      "\n",
      "         bad       0.49      0.48      0.48        82\n",
      "        good       0.81      0.82      0.81       218\n",
      "\n",
      "    accuracy                           0.72       300\n",
      "   macro avg       0.65      0.65      0.65       300\n",
      "weighted avg       0.72      0.72      0.72       300\n",
      "\n"
     ]
    },
    {
     "data": {
      "text/html": [
       "<div>\n",
       "<style scoped>\n",
       "    .dataframe tbody tr th:only-of-type {\n",
       "        vertical-align: middle;\n",
       "    }\n",
       "\n",
       "    .dataframe tbody tr th {\n",
       "        vertical-align: top;\n",
       "    }\n",
       "\n",
       "    .dataframe thead th {\n",
       "        text-align: right;\n",
       "    }\n",
       "</style>\n",
       "<table border=\"1\" class=\"dataframe\">\n",
       "  <thead>\n",
       "    <tr style=\"text-align: right;\">\n",
       "      <th></th>\n",
       "      <th>Train_acc</th>\n",
       "      <th>Test_Acc</th>\n",
       "      <th>Pre_Good</th>\n",
       "      <th>Rec_Good</th>\n",
       "    </tr>\n",
       "  </thead>\n",
       "  <tbody>\n",
       "    <tr>\n",
       "      <th>DT2(with Pruning)</th>\n",
       "      <td>0.855714</td>\n",
       "      <td>0.723333</td>\n",
       "      <td>0.80543</td>\n",
       "      <td>0.816514</td>\n",
       "    </tr>\n",
       "  </tbody>\n",
       "</table>\n",
       "</div>"
      ],
      "text/plain": [
       "                   Train_acc  Test_Acc  Pre_Good  Rec_Good\n",
       "DT2(with Pruning)   0.855714  0.723333   0.80543  0.816514"
      ]
     },
     "execution_count": 124,
     "metadata": {},
     "output_type": "execute_result"
    }
   ],
   "source": [
    "dt2 = DecisionTreeClassifier(criterion='gini',max_depth=7,min_samples_split=10) \n",
    "dt2_res,ypred_dt2 = eval_model(dt2, x_train, x_test, y_train, y_test,'DT2(with Pruning)')\n",
    "dt2_res"
   ]
  },
  {
   "cell_type": "markdown",
   "id": "17091fdb",
   "metadata": {},
   "source": [
    "#### Cross Validation"
   ]
  },
  {
   "cell_type": "code",
   "execution_count": 125,
   "id": "b9a6bb83",
   "metadata": {},
   "outputs": [],
   "source": [
    "from sklearn.model_selection import cross_val_score"
   ]
  },
  {
   "cell_type": "code",
   "execution_count": 129,
   "id": "b423e3d5",
   "metadata": {},
   "outputs": [
    {
     "name": "stdout",
     "output_type": "stream",
     "text": [
      "Cri: gini Depth 4 MSS: 8 => Mean Scores 0.7485714285714286\n",
      "******************************\n",
      "Cri: gini Depth 4 MSS: 10 => Mean Scores 0.7557142857142857\n",
      "******************************\n",
      "Cri: gini Depth 4 MSS: 12 => Mean Scores 0.7528571428571429\n",
      "******************************\n",
      "Cri: gini Depth 4 MSS: 14 => Mean Scores 0.7571428571428571\n",
      "******************************\n",
      "Cri: gini Depth 5 MSS: 8 => Mean Scores 0.7171428571428572\n",
      "******************************\n",
      "Cri: gini Depth 5 MSS: 10 => Mean Scores 0.7114285714285715\n",
      "******************************\n",
      "Cri: gini Depth 5 MSS: 12 => Mean Scores 0.7157142857142857\n",
      "******************************\n",
      "Cri: gini Depth 5 MSS: 14 => Mean Scores 0.7214285714285714\n",
      "******************************\n",
      "Cri: gini Depth 6 MSS: 8 => Mean Scores 0.7271428571428571\n",
      "******************************\n",
      "Cri: gini Depth 6 MSS: 10 => Mean Scores 0.7185714285714286\n",
      "******************************\n",
      "Cri: gini Depth 6 MSS: 12 => Mean Scores 0.7185714285714286\n",
      "******************************\n",
      "Cri: gini Depth 6 MSS: 14 => Mean Scores 0.7285714285714286\n",
      "******************************\n",
      "Cri: gini Depth 7 MSS: 8 => Mean Scores 0.7142857142857143\n",
      "******************************\n",
      "Cri: gini Depth 7 MSS: 10 => Mean Scores 0.7228571428571429\n",
      "******************************\n",
      "Cri: gini Depth 7 MSS: 12 => Mean Scores 0.7128571428571429\n",
      "******************************\n",
      "Cri: gini Depth 7 MSS: 14 => Mean Scores 0.7300000000000001\n",
      "******************************\n",
      "Cri: gini Depth 8 MSS: 8 => Mean Scores 0.7028571428571428\n",
      "******************************\n",
      "Cri: gini Depth 8 MSS: 10 => Mean Scores 0.7\n",
      "******************************\n",
      "Cri: gini Depth 8 MSS: 12 => Mean Scores 0.6985714285714286\n",
      "******************************\n",
      "Cri: gini Depth 8 MSS: 14 => Mean Scores 0.7057142857142857\n",
      "******************************\n",
      "Cri: entropy Depth 4 MSS: 8 => Mean Scores 0.7557142857142857\n",
      "******************************\n",
      "Cri: entropy Depth 4 MSS: 10 => Mean Scores 0.7557142857142857\n",
      "******************************\n",
      "Cri: entropy Depth 4 MSS: 12 => Mean Scores 0.7571428571428571\n",
      "******************************\n",
      "Cri: entropy Depth 4 MSS: 14 => Mean Scores 0.76\n",
      "******************************\n",
      "Cri: entropy Depth 5 MSS: 8 => Mean Scores 0.7357142857142858\n",
      "******************************\n",
      "Cri: entropy Depth 5 MSS: 10 => Mean Scores 0.7371428571428572\n",
      "******************************\n",
      "Cri: entropy Depth 5 MSS: 12 => Mean Scores 0.7328571428571429\n",
      "******************************\n",
      "Cri: entropy Depth 5 MSS: 14 => Mean Scores 0.7357142857142858\n",
      "******************************\n",
      "Cri: entropy Depth 6 MSS: 8 => Mean Scores 0.7542857142857142\n",
      "******************************\n",
      "Cri: entropy Depth 6 MSS: 10 => Mean Scores 0.75\n",
      "******************************\n",
      "Cri: entropy Depth 6 MSS: 12 => Mean Scores 0.7528571428571429\n",
      "******************************\n",
      "Cri: entropy Depth 6 MSS: 14 => Mean Scores 0.7528571428571429\n",
      "******************************\n",
      "Cri: entropy Depth 7 MSS: 8 => Mean Scores 0.7257142857142858\n",
      "******************************\n",
      "Cri: entropy Depth 7 MSS: 10 => Mean Scores 0.7285714285714286\n",
      "******************************\n",
      "Cri: entropy Depth 7 MSS: 12 => Mean Scores 0.7342857142857143\n",
      "******************************\n",
      "Cri: entropy Depth 7 MSS: 14 => Mean Scores 0.7414285714285714\n",
      "******************************\n",
      "Cri: entropy Depth 8 MSS: 8 => Mean Scores 0.7271428571428572\n",
      "******************************\n",
      "Cri: entropy Depth 8 MSS: 10 => Mean Scores 0.7300000000000001\n",
      "******************************\n",
      "Cri: entropy Depth 8 MSS: 12 => Mean Scores 0.7285714285714286\n",
      "******************************\n",
      "Cri: entropy Depth 8 MSS: 14 => Mean Scores 0.7457142857142858\n",
      "******************************\n"
     ]
    }
   ],
   "source": [
    "criterion = ['gini','entropy']\n",
    "max_depth = [4,5,6,7,8]\n",
    "min_samples_split = [8,10,12,14]\n",
    "# combinatins = 2*5*4 = 40\n",
    "for i in criterion:\n",
    "    for j in max_depth:\n",
    "        for k in min_samples_split:\n",
    "            model = DecisionTreeClassifier(criterion=i,max_depth=j,min_samples_split=k)\n",
    "            scores = cross_val_score(model,x_train,y_train,cv=5)\n",
    "            print('Cri:',i,'Depth',j,'MSS:',k,'=> Mean Scores',scores.mean())\n",
    "            print('*'*30)"
   ]
  },
  {
   "cell_type": "code",
   "execution_count": null,
   "id": "263fdc5f",
   "metadata": {},
   "outputs": [],
   "source": [
    "# Cri: entropy Depth 4 MSS: 14 "
   ]
  },
  {
   "cell_type": "code",
   "execution_count": 130,
   "id": "fa14ef6e",
   "metadata": {},
   "outputs": [
    {
     "name": "stdout",
     "output_type": "stream",
     "text": [
      "Cri: gini Depth 4 MSS: 8\n",
      "Train_Score 0.8028571428571428 Test_Score 0.7433333333333333\n",
      "**************************************************\n",
      "Cri: gini Depth 4 MSS: 10\n",
      "Train_Score 0.8014285714285714 Test_Score 0.7433333333333333\n",
      "**************************************************\n",
      "Cri: gini Depth 4 MSS: 12\n",
      "Train_Score 0.8014285714285714 Test_Score 0.7433333333333333\n",
      "**************************************************\n",
      "Cri: gini Depth 4 MSS: 14\n",
      "Train_Score 0.8014285714285714 Test_Score 0.7433333333333333\n",
      "**************************************************\n",
      "Cri: gini Depth 5 MSS: 8\n",
      "Train_Score 0.8271428571428572 Test_Score 0.74\n",
      "**************************************************\n",
      "Cri: gini Depth 5 MSS: 10\n",
      "Train_Score 0.8257142857142857 Test_Score 0.74\n",
      "**************************************************\n",
      "Cri: gini Depth 5 MSS: 12\n",
      "Train_Score 0.8257142857142857 Test_Score 0.74\n",
      "**************************************************\n",
      "Cri: gini Depth 5 MSS: 14\n",
      "Train_Score 0.82 Test_Score 0.7433333333333333\n",
      "**************************************************\n",
      "Cri: gini Depth 6 MSS: 8\n",
      "Train_Score 0.84 Test_Score 0.7366666666666667\n",
      "**************************************************\n",
      "Cri: gini Depth 6 MSS: 10\n",
      "Train_Score 0.8385714285714285 Test_Score 0.7366666666666667\n",
      "**************************************************\n",
      "Cri: gini Depth 6 MSS: 12\n",
      "Train_Score 0.8385714285714285 Test_Score 0.74\n",
      "**************************************************\n",
      "Cri: gini Depth 6 MSS: 14\n",
      "Train_Score 0.83 Test_Score 0.7333333333333333\n",
      "**************************************************\n",
      "Cri: gini Depth 7 MSS: 8\n",
      "Train_Score 0.8614285714285714 Test_Score 0.7266666666666667\n",
      "**************************************************\n",
      "Cri: gini Depth 7 MSS: 10\n",
      "Train_Score 0.8557142857142858 Test_Score 0.7233333333333334\n",
      "**************************************************\n",
      "Cri: gini Depth 7 MSS: 12\n",
      "Train_Score 0.8514285714285714 Test_Score 0.7366666666666667\n",
      "**************************************************\n",
      "Cri: gini Depth 7 MSS: 14\n",
      "Train_Score 0.84 Test_Score 0.7366666666666667\n",
      "**************************************************\n",
      "Cri: gini Depth 8 MSS: 8\n",
      "Train_Score 0.8857142857142857 Test_Score 0.6966666666666667\n",
      "**************************************************\n",
      "Cri: gini Depth 8 MSS: 10\n",
      "Train_Score 0.8742857142857143 Test_Score 0.6966666666666667\n",
      "**************************************************\n",
      "Cri: gini Depth 8 MSS: 12\n",
      "Train_Score 0.87 Test_Score 0.6966666666666667\n",
      "**************************************************\n",
      "Cri: gini Depth 8 MSS: 14\n",
      "Train_Score 0.8542857142857143 Test_Score 0.7066666666666667\n",
      "**************************************************\n",
      "Cri: entropy Depth 4 MSS: 8\n",
      "Train_Score 0.8042857142857143 Test_Score 0.75\n",
      "**************************************************\n",
      "Cri: entropy Depth 4 MSS: 10\n",
      "Train_Score 0.8028571428571428 Test_Score 0.75\n",
      "**************************************************\n",
      "Cri: entropy Depth 4 MSS: 12\n",
      "Train_Score 0.8 Test_Score 0.7433333333333333\n",
      "**************************************************\n",
      "Cri: entropy Depth 4 MSS: 14\n",
      "Train_Score 0.8 Test_Score 0.7433333333333333\n",
      "**************************************************\n",
      "Cri: entropy Depth 5 MSS: 8\n",
      "Train_Score 0.8171428571428572 Test_Score 0.7166666666666667\n",
      "**************************************************\n",
      "Cri: entropy Depth 5 MSS: 10\n",
      "Train_Score 0.8157142857142857 Test_Score 0.7166666666666667\n",
      "**************************************************\n",
      "Cri: entropy Depth 5 MSS: 12\n",
      "Train_Score 0.8128571428571428 Test_Score 0.71\n",
      "**************************************************\n",
      "Cri: entropy Depth 5 MSS: 14\n",
      "Train_Score 0.8071428571428572 Test_Score 0.7133333333333334\n",
      "**************************************************\n",
      "Cri: entropy Depth 6 MSS: 8\n",
      "Train_Score 0.8342857142857143 Test_Score 0.74\n",
      "**************************************************\n",
      "Cri: entropy Depth 6 MSS: 10\n",
      "Train_Score 0.83 Test_Score 0.74\n",
      "**************************************************\n",
      "Cri: entropy Depth 6 MSS: 12\n",
      "Train_Score 0.8271428571428572 Test_Score 0.7333333333333333\n",
      "**************************************************\n",
      "Cri: entropy Depth 6 MSS: 14\n",
      "Train_Score 0.8214285714285714 Test_Score 0.7366666666666667\n",
      "**************************************************\n",
      "Cri: entropy Depth 7 MSS: 8\n",
      "Train_Score 0.8557142857142858 Test_Score 0.6966666666666667\n",
      "**************************************************\n",
      "Cri: entropy Depth 7 MSS: 10\n",
      "Train_Score 0.8485714285714285 Test_Score 0.6866666666666666\n",
      "**************************************************\n",
      "Cri: entropy Depth 7 MSS: 12\n",
      "Train_Score 0.8457142857142858 Test_Score 0.68\n",
      "**************************************************\n",
      "Cri: entropy Depth 7 MSS: 14\n",
      "Train_Score 0.84 Test_Score 0.6833333333333333\n",
      "**************************************************\n",
      "Cri: entropy Depth 8 MSS: 8\n",
      "Train_Score 0.8742857142857143 Test_Score 0.7066666666666667\n",
      "**************************************************\n",
      "Cri: entropy Depth 8 MSS: 10\n",
      "Train_Score 0.8642857142857143 Test_Score 0.6966666666666667\n",
      "**************************************************\n",
      "Cri: entropy Depth 8 MSS: 12\n",
      "Train_Score 0.8614285714285714 Test_Score 0.69\n",
      "**************************************************\n",
      "Cri: entropy Depth 8 MSS: 14\n",
      "Train_Score 0.8528571428571429 Test_Score 0.69\n",
      "**************************************************\n"
     ]
    }
   ],
   "source": [
    "criterion = ['gini','entropy']\n",
    "max_depth = [4,5,6,7,8]\n",
    "min_samples_split = [8,10,12,14]\n",
    "for i in criterion:\n",
    "    for j in max_depth:\n",
    "        for k in min_samples_split:\n",
    "            model = DecisionTreeClassifier(criterion=i,max_depth=j,min_samples_split=k)\n",
    "            model.fit(x_train,y_train)\n",
    "            tr_scr = model.score(x_train,y_train)\n",
    "            te_scr = model.score(x_test,y_test)\n",
    "            print('Cri:',i,'Depth',j,'MSS:',k)\n",
    "            print('Train_Score',tr_scr,'Test_Score',te_scr)\n",
    "            print('*'*50)"
   ]
  },
  {
   "cell_type": "code",
   "execution_count": 131,
   "id": "19dc6bb8",
   "metadata": {},
   "outputs": [],
   "source": [
    "### Inference\n",
    "# Cri: entropy Depth 4 MSS: 8\n",
    "# Train_Score 0.8042857142857143 Test_Score 0.75\n",
    "# Cri: entropy Depth 4 MSS: 10\n",
    "# Train_Score 0.8028571428571428 Test_Score 0.75"
   ]
  },
  {
   "cell_type": "markdown",
   "id": "15f93a2c",
   "metadata": {},
   "source": [
    "#### Hyperparameter Tuning\n",
    "<pre>\n",
    "1) GridSearchCV\n",
    "a) Checks the model's performance on each and very possible combination of hyperparameters\n",
    "across different splits and then returns the best result.\n",
    "b) Time consuming\n",
    "\n",
    "2) RandomizedSearchCV\n",
    "a) Checks the model's performance on randomly selected(default = 10) combinations of hyperparameters across different splits and then returns the best result.\n",
    "b) Comparatively conszumes less time\n"
   ]
  },
  {
   "cell_type": "code",
   "execution_count": 133,
   "id": "4003897f",
   "metadata": {},
   "outputs": [],
   "source": [
    "from sklearn.model_selection import GridSearchCV, RandomizedSearchCV"
   ]
  },
  {
   "cell_type": "code",
   "execution_count": 135,
   "id": "ca8d47b8",
   "metadata": {},
   "outputs": [],
   "source": [
    "hparams_dt = {'criterion':['gini','entropy'],\n",
    "             'max_depth':[4,5,6,7,8],\n",
    "             'min_samples_split':[8,10,12]}\n",
    "\n",
    "# combinations = 2*5*3 = 30"
   ]
  },
  {
   "cell_type": "code",
   "execution_count": 136,
   "id": "fab723b7",
   "metadata": {},
   "outputs": [
    {
     "data": {
      "text/html": [
       "<style>#sk-container-id-1 {color: black;background-color: white;}#sk-container-id-1 pre{padding: 0;}#sk-container-id-1 div.sk-toggleable {background-color: white;}#sk-container-id-1 label.sk-toggleable__label {cursor: pointer;display: block;width: 100%;margin-bottom: 0;padding: 0.3em;box-sizing: border-box;text-align: center;}#sk-container-id-1 label.sk-toggleable__label-arrow:before {content: \"▸\";float: left;margin-right: 0.25em;color: #696969;}#sk-container-id-1 label.sk-toggleable__label-arrow:hover:before {color: black;}#sk-container-id-1 div.sk-estimator:hover label.sk-toggleable__label-arrow:before {color: black;}#sk-container-id-1 div.sk-toggleable__content {max-height: 0;max-width: 0;overflow: hidden;text-align: left;background-color: #f0f8ff;}#sk-container-id-1 div.sk-toggleable__content pre {margin: 0.2em;color: black;border-radius: 0.25em;background-color: #f0f8ff;}#sk-container-id-1 input.sk-toggleable__control:checked~div.sk-toggleable__content {max-height: 200px;max-width: 100%;overflow: auto;}#sk-container-id-1 input.sk-toggleable__control:checked~label.sk-toggleable__label-arrow:before {content: \"▾\";}#sk-container-id-1 div.sk-estimator input.sk-toggleable__control:checked~label.sk-toggleable__label {background-color: #d4ebff;}#sk-container-id-1 div.sk-label input.sk-toggleable__control:checked~label.sk-toggleable__label {background-color: #d4ebff;}#sk-container-id-1 input.sk-hidden--visually {border: 0;clip: rect(1px 1px 1px 1px);clip: rect(1px, 1px, 1px, 1px);height: 1px;margin: -1px;overflow: hidden;padding: 0;position: absolute;width: 1px;}#sk-container-id-1 div.sk-estimator {font-family: monospace;background-color: #f0f8ff;border: 1px dotted black;border-radius: 0.25em;box-sizing: border-box;margin-bottom: 0.5em;}#sk-container-id-1 div.sk-estimator:hover {background-color: #d4ebff;}#sk-container-id-1 div.sk-parallel-item::after {content: \"\";width: 100%;border-bottom: 1px solid gray;flex-grow: 1;}#sk-container-id-1 div.sk-label:hover label.sk-toggleable__label {background-color: #d4ebff;}#sk-container-id-1 div.sk-serial::before {content: \"\";position: absolute;border-left: 1px solid gray;box-sizing: border-box;top: 0;bottom: 0;left: 50%;z-index: 0;}#sk-container-id-1 div.sk-serial {display: flex;flex-direction: column;align-items: center;background-color: white;padding-right: 0.2em;padding-left: 0.2em;position: relative;}#sk-container-id-1 div.sk-item {position: relative;z-index: 1;}#sk-container-id-1 div.sk-parallel {display: flex;align-items: stretch;justify-content: center;background-color: white;position: relative;}#sk-container-id-1 div.sk-item::before, #sk-container-id-1 div.sk-parallel-item::before {content: \"\";position: absolute;border-left: 1px solid gray;box-sizing: border-box;top: 0;bottom: 0;left: 50%;z-index: -1;}#sk-container-id-1 div.sk-parallel-item {display: flex;flex-direction: column;z-index: 1;position: relative;background-color: white;}#sk-container-id-1 div.sk-parallel-item:first-child::after {align-self: flex-end;width: 50%;}#sk-container-id-1 div.sk-parallel-item:last-child::after {align-self: flex-start;width: 50%;}#sk-container-id-1 div.sk-parallel-item:only-child::after {width: 0;}#sk-container-id-1 div.sk-dashed-wrapped {border: 1px dashed gray;margin: 0 0.4em 0.5em 0.4em;box-sizing: border-box;padding-bottom: 0.4em;background-color: white;}#sk-container-id-1 div.sk-label label {font-family: monospace;font-weight: bold;display: inline-block;line-height: 1.2em;}#sk-container-id-1 div.sk-label-container {text-align: center;}#sk-container-id-1 div.sk-container {/* jupyter's `normalize.less` sets `[hidden] { display: none; }` but bootstrap.min.css set `[hidden] { display: none !important; }` so we also need the `!important` here to be able to override the default hidden behavior on the sphinx rendered scikit-learn.org. See: https://github.com/scikit-learn/scikit-learn/issues/21755 */display: inline-block !important;position: relative;}#sk-container-id-1 div.sk-text-repr-fallback {display: none;}</style><div id=\"sk-container-id-1\" class=\"sk-top-container\"><div class=\"sk-text-repr-fallback\"><pre>GridSearchCV(cv=5, estimator=DecisionTreeClassifier(),\n",
       "             param_grid={&#x27;criterion&#x27;: [&#x27;gini&#x27;, &#x27;entropy&#x27;],\n",
       "                         &#x27;max_depth&#x27;: [4, 5, 6, 7, 8],\n",
       "                         &#x27;min_samples_split&#x27;: [8, 10, 12]},\n",
       "             scoring=&#x27;accuracy&#x27;)</pre><b>In a Jupyter environment, please rerun this cell to show the HTML representation or trust the notebook. <br />On GitHub, the HTML representation is unable to render, please try loading this page with nbviewer.org.</b></div><div class=\"sk-container\" hidden><div class=\"sk-item sk-dashed-wrapped\"><div class=\"sk-label-container\"><div class=\"sk-label sk-toggleable\"><input class=\"sk-toggleable__control sk-hidden--visually\" id=\"sk-estimator-id-1\" type=\"checkbox\" ><label for=\"sk-estimator-id-1\" class=\"sk-toggleable__label sk-toggleable__label-arrow\">GridSearchCV</label><div class=\"sk-toggleable__content\"><pre>GridSearchCV(cv=5, estimator=DecisionTreeClassifier(),\n",
       "             param_grid={&#x27;criterion&#x27;: [&#x27;gini&#x27;, &#x27;entropy&#x27;],\n",
       "                         &#x27;max_depth&#x27;: [4, 5, 6, 7, 8],\n",
       "                         &#x27;min_samples_split&#x27;: [8, 10, 12]},\n",
       "             scoring=&#x27;accuracy&#x27;)</pre></div></div></div><div class=\"sk-parallel\"><div class=\"sk-parallel-item\"><div class=\"sk-item\"><div class=\"sk-label-container\"><div class=\"sk-label sk-toggleable\"><input class=\"sk-toggleable__control sk-hidden--visually\" id=\"sk-estimator-id-2\" type=\"checkbox\" ><label for=\"sk-estimator-id-2\" class=\"sk-toggleable__label sk-toggleable__label-arrow\">estimator: DecisionTreeClassifier</label><div class=\"sk-toggleable__content\"><pre>DecisionTreeClassifier()</pre></div></div></div><div class=\"sk-serial\"><div class=\"sk-item\"><div class=\"sk-estimator sk-toggleable\"><input class=\"sk-toggleable__control sk-hidden--visually\" id=\"sk-estimator-id-3\" type=\"checkbox\" ><label for=\"sk-estimator-id-3\" class=\"sk-toggleable__label sk-toggleable__label-arrow\">DecisionTreeClassifier</label><div class=\"sk-toggleable__content\"><pre>DecisionTreeClassifier()</pre></div></div></div></div></div></div></div></div></div></div>"
      ],
      "text/plain": [
       "GridSearchCV(cv=5, estimator=DecisionTreeClassifier(),\n",
       "             param_grid={'criterion': ['gini', 'entropy'],\n",
       "                         'max_depth': [4, 5, 6, 7, 8],\n",
       "                         'min_samples_split': [8, 10, 12]},\n",
       "             scoring='accuracy')"
      ]
     },
     "execution_count": 136,
     "metadata": {},
     "output_type": "execute_result"
    }
   ],
   "source": [
    "dt_base = DecisionTreeClassifier()\n",
    "gs1 = GridSearchCV(dt_base,param_grid=hparams_dt, scoring='accuracy',cv=5)\n",
    "gs1.fit(x_train,y_train)"
   ]
  },
  {
   "cell_type": "code",
   "execution_count": 138,
   "id": "c95ecb07",
   "metadata": {},
   "outputs": [
    {
     "name": "stdout",
     "output_type": "stream",
     "text": [
      "0.7571428571428571\n",
      "{'criterion': 'gini', 'max_depth': 4, 'min_samples_split': 12}\n",
      "DecisionTreeClassifier(max_depth=4, min_samples_split=12)\n"
     ]
    }
   ],
   "source": [
    "print(gs1.best_score_)\n",
    "print(gs1.best_params_)\n",
    "print(gs1.best_estimator_)"
   ]
  },
  {
   "cell_type": "code",
   "execution_count": null,
   "id": "614187df",
   "metadata": {},
   "outputs": [],
   "source": [
    "# args and kwargs"
   ]
  },
  {
   "cell_type": "markdown",
   "id": "aa336280",
   "metadata": {},
   "source": [
    "#### Model after GridSearch with best combination of Hparams"
   ]
  },
  {
   "cell_type": "code",
   "execution_count": 141,
   "id": "560d8007",
   "metadata": {},
   "outputs": [
    {
     "name": "stdout",
     "output_type": "stream",
     "text": [
      "[[ 28  54]\n",
      " [ 23 195]]\n",
      "              precision    recall  f1-score   support\n",
      "\n",
      "         bad       0.55      0.34      0.42        82\n",
      "        good       0.78      0.89      0.84       218\n",
      "\n",
      "    accuracy                           0.74       300\n",
      "   macro avg       0.67      0.62      0.63       300\n",
      "weighted avg       0.72      0.74      0.72       300\n",
      "\n"
     ]
    },
    {
     "data": {
      "text/html": [
       "<style>#sk-container-id-4 {color: black;background-color: white;}#sk-container-id-4 pre{padding: 0;}#sk-container-id-4 div.sk-toggleable {background-color: white;}#sk-container-id-4 label.sk-toggleable__label {cursor: pointer;display: block;width: 100%;margin-bottom: 0;padding: 0.3em;box-sizing: border-box;text-align: center;}#sk-container-id-4 label.sk-toggleable__label-arrow:before {content: \"▸\";float: left;margin-right: 0.25em;color: #696969;}#sk-container-id-4 label.sk-toggleable__label-arrow:hover:before {color: black;}#sk-container-id-4 div.sk-estimator:hover label.sk-toggleable__label-arrow:before {color: black;}#sk-container-id-4 div.sk-toggleable__content {max-height: 0;max-width: 0;overflow: hidden;text-align: left;background-color: #f0f8ff;}#sk-container-id-4 div.sk-toggleable__content pre {margin: 0.2em;color: black;border-radius: 0.25em;background-color: #f0f8ff;}#sk-container-id-4 input.sk-toggleable__control:checked~div.sk-toggleable__content {max-height: 200px;max-width: 100%;overflow: auto;}#sk-container-id-4 input.sk-toggleable__control:checked~label.sk-toggleable__label-arrow:before {content: \"▾\";}#sk-container-id-4 div.sk-estimator input.sk-toggleable__control:checked~label.sk-toggleable__label {background-color: #d4ebff;}#sk-container-id-4 div.sk-label input.sk-toggleable__control:checked~label.sk-toggleable__label {background-color: #d4ebff;}#sk-container-id-4 input.sk-hidden--visually {border: 0;clip: rect(1px 1px 1px 1px);clip: rect(1px, 1px, 1px, 1px);height: 1px;margin: -1px;overflow: hidden;padding: 0;position: absolute;width: 1px;}#sk-container-id-4 div.sk-estimator {font-family: monospace;background-color: #f0f8ff;border: 1px dotted black;border-radius: 0.25em;box-sizing: border-box;margin-bottom: 0.5em;}#sk-container-id-4 div.sk-estimator:hover {background-color: #d4ebff;}#sk-container-id-4 div.sk-parallel-item::after {content: \"\";width: 100%;border-bottom: 1px solid gray;flex-grow: 1;}#sk-container-id-4 div.sk-label:hover label.sk-toggleable__label {background-color: #d4ebff;}#sk-container-id-4 div.sk-serial::before {content: \"\";position: absolute;border-left: 1px solid gray;box-sizing: border-box;top: 0;bottom: 0;left: 50%;z-index: 0;}#sk-container-id-4 div.sk-serial {display: flex;flex-direction: column;align-items: center;background-color: white;padding-right: 0.2em;padding-left: 0.2em;position: relative;}#sk-container-id-4 div.sk-item {position: relative;z-index: 1;}#sk-container-id-4 div.sk-parallel {display: flex;align-items: stretch;justify-content: center;background-color: white;position: relative;}#sk-container-id-4 div.sk-item::before, #sk-container-id-4 div.sk-parallel-item::before {content: \"\";position: absolute;border-left: 1px solid gray;box-sizing: border-box;top: 0;bottom: 0;left: 50%;z-index: -1;}#sk-container-id-4 div.sk-parallel-item {display: flex;flex-direction: column;z-index: 1;position: relative;background-color: white;}#sk-container-id-4 div.sk-parallel-item:first-child::after {align-self: flex-end;width: 50%;}#sk-container-id-4 div.sk-parallel-item:last-child::after {align-self: flex-start;width: 50%;}#sk-container-id-4 div.sk-parallel-item:only-child::after {width: 0;}#sk-container-id-4 div.sk-dashed-wrapped {border: 1px dashed gray;margin: 0 0.4em 0.5em 0.4em;box-sizing: border-box;padding-bottom: 0.4em;background-color: white;}#sk-container-id-4 div.sk-label label {font-family: monospace;font-weight: bold;display: inline-block;line-height: 1.2em;}#sk-container-id-4 div.sk-label-container {text-align: center;}#sk-container-id-4 div.sk-container {/* jupyter's `normalize.less` sets `[hidden] { display: none; }` but bootstrap.min.css set `[hidden] { display: none !important; }` so we also need the `!important` here to be able to override the default hidden behavior on the sphinx rendered scikit-learn.org. See: https://github.com/scikit-learn/scikit-learn/issues/21755 */display: inline-block !important;position: relative;}#sk-container-id-4 div.sk-text-repr-fallback {display: none;}</style><div id=\"sk-container-id-4\" class=\"sk-top-container\"><div class=\"sk-text-repr-fallback\"><pre>DecisionTreeClassifier(max_depth=4, min_samples_split=12)</pre><b>In a Jupyter environment, please rerun this cell to show the HTML representation or trust the notebook. <br />On GitHub, the HTML representation is unable to render, please try loading this page with nbviewer.org.</b></div><div class=\"sk-container\" hidden><div class=\"sk-item\"><div class=\"sk-estimator sk-toggleable\"><input class=\"sk-toggleable__control sk-hidden--visually\" id=\"sk-estimator-id-6\" type=\"checkbox\" checked><label for=\"sk-estimator-id-6\" class=\"sk-toggleable__label sk-toggleable__label-arrow\">DecisionTreeClassifier</label><div class=\"sk-toggleable__content\"><pre>DecisionTreeClassifier(max_depth=4, min_samples_split=12)</pre></div></div></div></div></div>"
      ],
      "text/plain": [
       "DecisionTreeClassifier(max_depth=4, min_samples_split=12)"
      ]
     },
     "execution_count": 141,
     "metadata": {},
     "output_type": "execute_result"
    }
   ],
   "source": [
    "dt_gs1 = DecisionTreeClassifier(**gs1.best_params_)\n",
    "# OR\n",
    "# dt_gs1 = DecisionTreeClassifier(criterion='gini', max_depth=4, min_samples_split= 12)\n",
    "dt_gs1_res,ypred_dt_gs1 = eval_model(dt_gs1,x_train,x_test,y_train,y_test,'DT_GS1')\n"
   ]
  },
  {
   "cell_type": "code",
   "execution_count": 143,
   "id": "f336d119",
   "metadata": {},
   "outputs": [
    {
     "data": {
      "text/html": [
       "<div>\n",
       "<style scoped>\n",
       "    .dataframe tbody tr th:only-of-type {\n",
       "        vertical-align: middle;\n",
       "    }\n",
       "\n",
       "    .dataframe tbody tr th {\n",
       "        vertical-align: top;\n",
       "    }\n",
       "\n",
       "    .dataframe thead th {\n",
       "        text-align: right;\n",
       "    }\n",
       "</style>\n",
       "<table border=\"1\" class=\"dataframe\">\n",
       "  <thead>\n",
       "    <tr style=\"text-align: right;\">\n",
       "      <th></th>\n",
       "      <th>Train_acc</th>\n",
       "      <th>Test_Acc</th>\n",
       "      <th>Pre_Good</th>\n",
       "      <th>Rec_Good</th>\n",
       "    </tr>\n",
       "  </thead>\n",
       "  <tbody>\n",
       "    <tr>\n",
       "      <th>DT_GS1</th>\n",
       "      <td>0.801429</td>\n",
       "      <td>0.743333</td>\n",
       "      <td>0.783133</td>\n",
       "      <td>0.894495</td>\n",
       "    </tr>\n",
       "  </tbody>\n",
       "</table>\n",
       "</div>"
      ],
      "text/plain": [
       "        Train_acc  Test_Acc  Pre_Good  Rec_Good\n",
       "DT_GS1   0.801429  0.743333  0.783133  0.894495"
      ]
     },
     "execution_count": 143,
     "metadata": {},
     "output_type": "execute_result"
    }
   ],
   "source": [
    "dt_gs1_res"
   ]
  },
  {
   "cell_type": "code",
   "execution_count": 144,
   "id": "e30d6d2b",
   "metadata": {},
   "outputs": [
    {
     "name": "stdout",
     "output_type": "stream",
     "text": [
      "(30, 16)\n"
     ]
    },
    {
     "data": {
      "text/html": [
       "<div>\n",
       "<style scoped>\n",
       "    .dataframe tbody tr th:only-of-type {\n",
       "        vertical-align: middle;\n",
       "    }\n",
       "\n",
       "    .dataframe tbody tr th {\n",
       "        vertical-align: top;\n",
       "    }\n",
       "\n",
       "    .dataframe thead th {\n",
       "        text-align: right;\n",
       "    }\n",
       "</style>\n",
       "<table border=\"1\" class=\"dataframe\">\n",
       "  <thead>\n",
       "    <tr style=\"text-align: right;\">\n",
       "      <th></th>\n",
       "      <th>mean_fit_time</th>\n",
       "      <th>std_fit_time</th>\n",
       "      <th>mean_score_time</th>\n",
       "      <th>std_score_time</th>\n",
       "      <th>param_criterion</th>\n",
       "      <th>param_max_depth</th>\n",
       "      <th>param_min_samples_split</th>\n",
       "      <th>params</th>\n",
       "      <th>split0_test_score</th>\n",
       "      <th>split1_test_score</th>\n",
       "      <th>split2_test_score</th>\n",
       "      <th>split3_test_score</th>\n",
       "      <th>split4_test_score</th>\n",
       "      <th>mean_test_score</th>\n",
       "      <th>std_test_score</th>\n",
       "      <th>rank_test_score</th>\n",
       "    </tr>\n",
       "  </thead>\n",
       "  <tbody>\n",
       "    <tr>\n",
       "      <th>0</th>\n",
       "      <td>0.010193</td>\n",
       "      <td>0.001832</td>\n",
       "      <td>0.007796</td>\n",
       "      <td>0.003653</td>\n",
       "      <td>gini</td>\n",
       "      <td>4</td>\n",
       "      <td>8</td>\n",
       "      <td>{'criterion': 'gini', 'max_depth': 4, 'min_sam...</td>\n",
       "      <td>0.778571</td>\n",
       "      <td>0.721429</td>\n",
       "      <td>0.771429</td>\n",
       "      <td>0.735714</td>\n",
       "      <td>0.764286</td>\n",
       "      <td>0.754286</td>\n",
       "      <td>0.021946</td>\n",
       "      <td>5</td>\n",
       "    </tr>\n",
       "    <tr>\n",
       "      <th>1</th>\n",
       "      <td>0.010593</td>\n",
       "      <td>0.003497</td>\n",
       "      <td>0.006199</td>\n",
       "      <td>0.001719</td>\n",
       "      <td>gini</td>\n",
       "      <td>4</td>\n",
       "      <td>10</td>\n",
       "      <td>{'criterion': 'gini', 'max_depth': 4, 'min_sam...</td>\n",
       "      <td>0.778571</td>\n",
       "      <td>0.721429</td>\n",
       "      <td>0.771429</td>\n",
       "      <td>0.735714</td>\n",
       "      <td>0.742857</td>\n",
       "      <td>0.750000</td>\n",
       "      <td>0.021665</td>\n",
       "      <td>8</td>\n",
       "    </tr>\n",
       "    <tr>\n",
       "      <th>2</th>\n",
       "      <td>0.007396</td>\n",
       "      <td>0.002060</td>\n",
       "      <td>0.006797</td>\n",
       "      <td>0.003184</td>\n",
       "      <td>gini</td>\n",
       "      <td>4</td>\n",
       "      <td>12</td>\n",
       "      <td>{'criterion': 'gini', 'max_depth': 4, 'min_sam...</td>\n",
       "      <td>0.778571</td>\n",
       "      <td>0.721429</td>\n",
       "      <td>0.778571</td>\n",
       "      <td>0.742857</td>\n",
       "      <td>0.764286</td>\n",
       "      <td>0.757143</td>\n",
       "      <td>0.022131</td>\n",
       "      <td>1</td>\n",
       "    </tr>\n",
       "    <tr>\n",
       "      <th>3</th>\n",
       "      <td>0.009994</td>\n",
       "      <td>0.002448</td>\n",
       "      <td>0.004399</td>\n",
       "      <td>0.000491</td>\n",
       "      <td>gini</td>\n",
       "      <td>5</td>\n",
       "      <td>8</td>\n",
       "      <td>{'criterion': 'gini', 'max_depth': 5, 'min_sam...</td>\n",
       "      <td>0.735714</td>\n",
       "      <td>0.685714</td>\n",
       "      <td>0.657143</td>\n",
       "      <td>0.721429</td>\n",
       "      <td>0.757143</td>\n",
       "      <td>0.711429</td>\n",
       "      <td>0.035743</td>\n",
       "      <td>27</td>\n",
       "    </tr>\n",
       "    <tr>\n",
       "      <th>4</th>\n",
       "      <td>0.021989</td>\n",
       "      <td>0.017044</td>\n",
       "      <td>0.009593</td>\n",
       "      <td>0.005746</td>\n",
       "      <td>gini</td>\n",
       "      <td>5</td>\n",
       "      <td>10</td>\n",
       "      <td>{'criterion': 'gini', 'max_depth': 5, 'min_sam...</td>\n",
       "      <td>0.735714</td>\n",
       "      <td>0.685714</td>\n",
       "      <td>0.657143</td>\n",
       "      <td>0.707143</td>\n",
       "      <td>0.785714</td>\n",
       "      <td>0.714286</td>\n",
       "      <td>0.044032</td>\n",
       "      <td>25</td>\n",
       "    </tr>\n",
       "  </tbody>\n",
       "</table>\n",
       "</div>"
      ],
      "text/plain": [
       "   mean_fit_time  std_fit_time  mean_score_time  std_score_time  \\\n",
       "0       0.010193      0.001832         0.007796        0.003653   \n",
       "1       0.010593      0.003497         0.006199        0.001719   \n",
       "2       0.007396      0.002060         0.006797        0.003184   \n",
       "3       0.009994      0.002448         0.004399        0.000491   \n",
       "4       0.021989      0.017044         0.009593        0.005746   \n",
       "\n",
       "  param_criterion param_max_depth param_min_samples_split  \\\n",
       "0            gini               4                       8   \n",
       "1            gini               4                      10   \n",
       "2            gini               4                      12   \n",
       "3            gini               5                       8   \n",
       "4            gini               5                      10   \n",
       "\n",
       "                                              params  split0_test_score  \\\n",
       "0  {'criterion': 'gini', 'max_depth': 4, 'min_sam...           0.778571   \n",
       "1  {'criterion': 'gini', 'max_depth': 4, 'min_sam...           0.778571   \n",
       "2  {'criterion': 'gini', 'max_depth': 4, 'min_sam...           0.778571   \n",
       "3  {'criterion': 'gini', 'max_depth': 5, 'min_sam...           0.735714   \n",
       "4  {'criterion': 'gini', 'max_depth': 5, 'min_sam...           0.735714   \n",
       "\n",
       "   split1_test_score  split2_test_score  split3_test_score  split4_test_score  \\\n",
       "0           0.721429           0.771429           0.735714           0.764286   \n",
       "1           0.721429           0.771429           0.735714           0.742857   \n",
       "2           0.721429           0.778571           0.742857           0.764286   \n",
       "3           0.685714           0.657143           0.721429           0.757143   \n",
       "4           0.685714           0.657143           0.707143           0.785714   \n",
       "\n",
       "   mean_test_score  std_test_score  rank_test_score  \n",
       "0         0.754286        0.021946                5  \n",
       "1         0.750000        0.021665                8  \n",
       "2         0.757143        0.022131                1  \n",
       "3         0.711429        0.035743               27  \n",
       "4         0.714286        0.044032               25  "
      ]
     },
     "execution_count": 144,
     "metadata": {},
     "output_type": "execute_result"
    }
   ],
   "source": [
    "gs_res = pd.DataFrame(gs1.cv_results_)\n",
    "print(gs_res.shape)\n",
    "gs_res.head()"
   ]
  },
  {
   "cell_type": "code",
   "execution_count": 146,
   "id": "edcbd0ee",
   "metadata": {},
   "outputs": [
    {
     "data": {
      "text/plain": [
       "Index(['mean_fit_time', 'std_fit_time', 'mean_score_time', 'std_score_time',\n",
       "       'param_criterion', 'param_max_depth', 'param_min_samples_split',\n",
       "       'params', 'split0_test_score', 'split1_test_score', 'split2_test_score',\n",
       "       'split3_test_score', 'split4_test_score', 'mean_test_score',\n",
       "       'std_test_score', 'rank_test_score'],\n",
       "      dtype='object')"
      ]
     },
     "execution_count": 146,
     "metadata": {},
     "output_type": "execute_result"
    }
   ],
   "source": [
    "gs_res.columns"
   ]
  },
  {
   "cell_type": "code",
   "execution_count": 148,
   "id": "08d6f3ff",
   "metadata": {},
   "outputs": [
    {
     "data": {
      "text/html": [
       "<div>\n",
       "<style scoped>\n",
       "    .dataframe tbody tr th:only-of-type {\n",
       "        vertical-align: middle;\n",
       "    }\n",
       "\n",
       "    .dataframe tbody tr th {\n",
       "        vertical-align: top;\n",
       "    }\n",
       "\n",
       "    .dataframe thead th {\n",
       "        text-align: right;\n",
       "    }\n",
       "</style>\n",
       "<table border=\"1\" class=\"dataframe\">\n",
       "  <thead>\n",
       "    <tr style=\"text-align: right;\">\n",
       "      <th></th>\n",
       "      <th>param_criterion</th>\n",
       "      <th>param_max_depth</th>\n",
       "      <th>param_min_samples_split</th>\n",
       "      <th>mean_test_score</th>\n",
       "      <th>rank_test_score</th>\n",
       "    </tr>\n",
       "  </thead>\n",
       "  <tbody>\n",
       "    <tr>\n",
       "      <th>2</th>\n",
       "      <td>gini</td>\n",
       "      <td>4</td>\n",
       "      <td>12</td>\n",
       "      <td>0.757143</td>\n",
       "      <td>1</td>\n",
       "    </tr>\n",
       "    <tr>\n",
       "      <th>17</th>\n",
       "      <td>entropy</td>\n",
       "      <td>4</td>\n",
       "      <td>12</td>\n",
       "      <td>0.757143</td>\n",
       "      <td>1</td>\n",
       "    </tr>\n",
       "    <tr>\n",
       "      <th>16</th>\n",
       "      <td>entropy</td>\n",
       "      <td>4</td>\n",
       "      <td>10</td>\n",
       "      <td>0.755714</td>\n",
       "      <td>3</td>\n",
       "    </tr>\n",
       "    <tr>\n",
       "      <th>15</th>\n",
       "      <td>entropy</td>\n",
       "      <td>4</td>\n",
       "      <td>8</td>\n",
       "      <td>0.755714</td>\n",
       "      <td>3</td>\n",
       "    </tr>\n",
       "    <tr>\n",
       "      <th>0</th>\n",
       "      <td>gini</td>\n",
       "      <td>4</td>\n",
       "      <td>8</td>\n",
       "      <td>0.754286</td>\n",
       "      <td>5</td>\n",
       "    </tr>\n",
       "    <tr>\n",
       "      <th>21</th>\n",
       "      <td>entropy</td>\n",
       "      <td>6</td>\n",
       "      <td>8</td>\n",
       "      <td>0.752857</td>\n",
       "      <td>6</td>\n",
       "    </tr>\n",
       "    <tr>\n",
       "      <th>22</th>\n",
       "      <td>entropy</td>\n",
       "      <td>6</td>\n",
       "      <td>10</td>\n",
       "      <td>0.751429</td>\n",
       "      <td>7</td>\n",
       "    </tr>\n",
       "    <tr>\n",
       "      <th>1</th>\n",
       "      <td>gini</td>\n",
       "      <td>4</td>\n",
       "      <td>10</td>\n",
       "      <td>0.750000</td>\n",
       "      <td>8</td>\n",
       "    </tr>\n",
       "    <tr>\n",
       "      <th>23</th>\n",
       "      <td>entropy</td>\n",
       "      <td>6</td>\n",
       "      <td>12</td>\n",
       "      <td>0.750000</td>\n",
       "      <td>8</td>\n",
       "    </tr>\n",
       "    <tr>\n",
       "      <th>18</th>\n",
       "      <td>entropy</td>\n",
       "      <td>5</td>\n",
       "      <td>8</td>\n",
       "      <td>0.738571</td>\n",
       "      <td>10</td>\n",
       "    </tr>\n",
       "    <tr>\n",
       "      <th>19</th>\n",
       "      <td>entropy</td>\n",
       "      <td>5</td>\n",
       "      <td>10</td>\n",
       "      <td>0.737143</td>\n",
       "      <td>11</td>\n",
       "    </tr>\n",
       "    <tr>\n",
       "      <th>20</th>\n",
       "      <td>entropy</td>\n",
       "      <td>5</td>\n",
       "      <td>12</td>\n",
       "      <td>0.734286</td>\n",
       "      <td>12</td>\n",
       "    </tr>\n",
       "    <tr>\n",
       "      <th>26</th>\n",
       "      <td>entropy</td>\n",
       "      <td>7</td>\n",
       "      <td>12</td>\n",
       "      <td>0.732857</td>\n",
       "      <td>13</td>\n",
       "    </tr>\n",
       "    <tr>\n",
       "      <th>29</th>\n",
       "      <td>entropy</td>\n",
       "      <td>8</td>\n",
       "      <td>12</td>\n",
       "      <td>0.730000</td>\n",
       "      <td>14</td>\n",
       "    </tr>\n",
       "    <tr>\n",
       "      <th>25</th>\n",
       "      <td>entropy</td>\n",
       "      <td>7</td>\n",
       "      <td>10</td>\n",
       "      <td>0.728571</td>\n",
       "      <td>15</td>\n",
       "    </tr>\n",
       "    <tr>\n",
       "      <th>6</th>\n",
       "      <td>gini</td>\n",
       "      <td>6</td>\n",
       "      <td>8</td>\n",
       "      <td>0.727143</td>\n",
       "      <td>16</td>\n",
       "    </tr>\n",
       "    <tr>\n",
       "      <th>24</th>\n",
       "      <td>entropy</td>\n",
       "      <td>7</td>\n",
       "      <td>8</td>\n",
       "      <td>0.727143</td>\n",
       "      <td>16</td>\n",
       "    </tr>\n",
       "    <tr>\n",
       "      <th>28</th>\n",
       "      <td>entropy</td>\n",
       "      <td>8</td>\n",
       "      <td>10</td>\n",
       "      <td>0.725714</td>\n",
       "      <td>18</td>\n",
       "    </tr>\n",
       "    <tr>\n",
       "      <th>9</th>\n",
       "      <td>gini</td>\n",
       "      <td>7</td>\n",
       "      <td>8</td>\n",
       "      <td>0.725714</td>\n",
       "      <td>18</td>\n",
       "    </tr>\n",
       "    <tr>\n",
       "      <th>27</th>\n",
       "      <td>entropy</td>\n",
       "      <td>8</td>\n",
       "      <td>8</td>\n",
       "      <td>0.725714</td>\n",
       "      <td>18</td>\n",
       "    </tr>\n",
       "    <tr>\n",
       "      <th>8</th>\n",
       "      <td>gini</td>\n",
       "      <td>6</td>\n",
       "      <td>12</td>\n",
       "      <td>0.724286</td>\n",
       "      <td>21</td>\n",
       "    </tr>\n",
       "    <tr>\n",
       "      <th>7</th>\n",
       "      <td>gini</td>\n",
       "      <td>6</td>\n",
       "      <td>10</td>\n",
       "      <td>0.721429</td>\n",
       "      <td>22</td>\n",
       "    </tr>\n",
       "    <tr>\n",
       "      <th>11</th>\n",
       "      <td>gini</td>\n",
       "      <td>7</td>\n",
       "      <td>12</td>\n",
       "      <td>0.721429</td>\n",
       "      <td>23</td>\n",
       "    </tr>\n",
       "    <tr>\n",
       "      <th>5</th>\n",
       "      <td>gini</td>\n",
       "      <td>5</td>\n",
       "      <td>12</td>\n",
       "      <td>0.715714</td>\n",
       "      <td>24</td>\n",
       "    </tr>\n",
       "    <tr>\n",
       "      <th>10</th>\n",
       "      <td>gini</td>\n",
       "      <td>7</td>\n",
       "      <td>10</td>\n",
       "      <td>0.714286</td>\n",
       "      <td>25</td>\n",
       "    </tr>\n",
       "    <tr>\n",
       "      <th>4</th>\n",
       "      <td>gini</td>\n",
       "      <td>5</td>\n",
       "      <td>10</td>\n",
       "      <td>0.714286</td>\n",
       "      <td>25</td>\n",
       "    </tr>\n",
       "    <tr>\n",
       "      <th>3</th>\n",
       "      <td>gini</td>\n",
       "      <td>5</td>\n",
       "      <td>8</td>\n",
       "      <td>0.711429</td>\n",
       "      <td>27</td>\n",
       "    </tr>\n",
       "    <tr>\n",
       "      <th>12</th>\n",
       "      <td>gini</td>\n",
       "      <td>8</td>\n",
       "      <td>8</td>\n",
       "      <td>0.707143</td>\n",
       "      <td>28</td>\n",
       "    </tr>\n",
       "    <tr>\n",
       "      <th>13</th>\n",
       "      <td>gini</td>\n",
       "      <td>8</td>\n",
       "      <td>10</td>\n",
       "      <td>0.698571</td>\n",
       "      <td>29</td>\n",
       "    </tr>\n",
       "    <tr>\n",
       "      <th>14</th>\n",
       "      <td>gini</td>\n",
       "      <td>8</td>\n",
       "      <td>12</td>\n",
       "      <td>0.697143</td>\n",
       "      <td>30</td>\n",
       "    </tr>\n",
       "  </tbody>\n",
       "</table>\n",
       "</div>"
      ],
      "text/plain": [
       "   param_criterion param_max_depth param_min_samples_split  mean_test_score  \\\n",
       "2             gini               4                      12         0.757143   \n",
       "17         entropy               4                      12         0.757143   \n",
       "16         entropy               4                      10         0.755714   \n",
       "15         entropy               4                       8         0.755714   \n",
       "0             gini               4                       8         0.754286   \n",
       "21         entropy               6                       8         0.752857   \n",
       "22         entropy               6                      10         0.751429   \n",
       "1             gini               4                      10         0.750000   \n",
       "23         entropy               6                      12         0.750000   \n",
       "18         entropy               5                       8         0.738571   \n",
       "19         entropy               5                      10         0.737143   \n",
       "20         entropy               5                      12         0.734286   \n",
       "26         entropy               7                      12         0.732857   \n",
       "29         entropy               8                      12         0.730000   \n",
       "25         entropy               7                      10         0.728571   \n",
       "6             gini               6                       8         0.727143   \n",
       "24         entropy               7                       8         0.727143   \n",
       "28         entropy               8                      10         0.725714   \n",
       "9             gini               7                       8         0.725714   \n",
       "27         entropy               8                       8         0.725714   \n",
       "8             gini               6                      12         0.724286   \n",
       "7             gini               6                      10         0.721429   \n",
       "11            gini               7                      12         0.721429   \n",
       "5             gini               5                      12         0.715714   \n",
       "10            gini               7                      10         0.714286   \n",
       "4             gini               5                      10         0.714286   \n",
       "3             gini               5                       8         0.711429   \n",
       "12            gini               8                       8         0.707143   \n",
       "13            gini               8                      10         0.698571   \n",
       "14            gini               8                      12         0.697143   \n",
       "\n",
       "    rank_test_score  \n",
       "2                 1  \n",
       "17                1  \n",
       "16                3  \n",
       "15                3  \n",
       "0                 5  \n",
       "21                6  \n",
       "22                7  \n",
       "1                 8  \n",
       "23                8  \n",
       "18               10  \n",
       "19               11  \n",
       "20               12  \n",
       "26               13  \n",
       "29               14  \n",
       "25               15  \n",
       "6                16  \n",
       "24               16  \n",
       "28               18  \n",
       "9                18  \n",
       "27               18  \n",
       "8                21  \n",
       "7                22  \n",
       "11               23  \n",
       "5                24  \n",
       "10               25  \n",
       "4                25  \n",
       "3                27  \n",
       "12               28  \n",
       "13               29  \n",
       "14               30  "
      ]
     },
     "execution_count": 148,
     "metadata": {},
     "output_type": "execute_result"
    }
   ],
   "source": [
    "gs_res = gs_res[['param_criterion', 'param_max_depth', 'param_min_samples_split',\n",
    "                'mean_test_score','rank_test_score']]\n",
    "gs_res = gs_res.sort_values('rank_test_score')\n",
    "gs_res"
   ]
  },
  {
   "cell_type": "markdown",
   "id": "4412f307",
   "metadata": {},
   "source": [
    "### 2) RandomizedSearchCV"
   ]
  },
  {
   "cell_type": "code",
   "execution_count": 149,
   "id": "6f420021",
   "metadata": {},
   "outputs": [
    {
     "name": "stdout",
     "output_type": "stream",
     "text": [
      "{'criterion': ['gini', 'entropy'], 'max_depth': [4, 5, 6, 7, 8], 'min_samples_split': [8, 10, 12]}\n"
     ]
    }
   ],
   "source": [
    "print(hparams_dt)"
   ]
  },
  {
   "cell_type": "code",
   "execution_count": 151,
   "id": "ea0ecbe5",
   "metadata": {},
   "outputs": [
    {
     "data": {
      "text/html": [
       "<style>#sk-container-id-7 {color: black;background-color: white;}#sk-container-id-7 pre{padding: 0;}#sk-container-id-7 div.sk-toggleable {background-color: white;}#sk-container-id-7 label.sk-toggleable__label {cursor: pointer;display: block;width: 100%;margin-bottom: 0;padding: 0.3em;box-sizing: border-box;text-align: center;}#sk-container-id-7 label.sk-toggleable__label-arrow:before {content: \"▸\";float: left;margin-right: 0.25em;color: #696969;}#sk-container-id-7 label.sk-toggleable__label-arrow:hover:before {color: black;}#sk-container-id-7 div.sk-estimator:hover label.sk-toggleable__label-arrow:before {color: black;}#sk-container-id-7 div.sk-toggleable__content {max-height: 0;max-width: 0;overflow: hidden;text-align: left;background-color: #f0f8ff;}#sk-container-id-7 div.sk-toggleable__content pre {margin: 0.2em;color: black;border-radius: 0.25em;background-color: #f0f8ff;}#sk-container-id-7 input.sk-toggleable__control:checked~div.sk-toggleable__content {max-height: 200px;max-width: 100%;overflow: auto;}#sk-container-id-7 input.sk-toggleable__control:checked~label.sk-toggleable__label-arrow:before {content: \"▾\";}#sk-container-id-7 div.sk-estimator input.sk-toggleable__control:checked~label.sk-toggleable__label {background-color: #d4ebff;}#sk-container-id-7 div.sk-label input.sk-toggleable__control:checked~label.sk-toggleable__label {background-color: #d4ebff;}#sk-container-id-7 input.sk-hidden--visually {border: 0;clip: rect(1px 1px 1px 1px);clip: rect(1px, 1px, 1px, 1px);height: 1px;margin: -1px;overflow: hidden;padding: 0;position: absolute;width: 1px;}#sk-container-id-7 div.sk-estimator {font-family: monospace;background-color: #f0f8ff;border: 1px dotted black;border-radius: 0.25em;box-sizing: border-box;margin-bottom: 0.5em;}#sk-container-id-7 div.sk-estimator:hover {background-color: #d4ebff;}#sk-container-id-7 div.sk-parallel-item::after {content: \"\";width: 100%;border-bottom: 1px solid gray;flex-grow: 1;}#sk-container-id-7 div.sk-label:hover label.sk-toggleable__label {background-color: #d4ebff;}#sk-container-id-7 div.sk-serial::before {content: \"\";position: absolute;border-left: 1px solid gray;box-sizing: border-box;top: 0;bottom: 0;left: 50%;z-index: 0;}#sk-container-id-7 div.sk-serial {display: flex;flex-direction: column;align-items: center;background-color: white;padding-right: 0.2em;padding-left: 0.2em;position: relative;}#sk-container-id-7 div.sk-item {position: relative;z-index: 1;}#sk-container-id-7 div.sk-parallel {display: flex;align-items: stretch;justify-content: center;background-color: white;position: relative;}#sk-container-id-7 div.sk-item::before, #sk-container-id-7 div.sk-parallel-item::before {content: \"\";position: absolute;border-left: 1px solid gray;box-sizing: border-box;top: 0;bottom: 0;left: 50%;z-index: -1;}#sk-container-id-7 div.sk-parallel-item {display: flex;flex-direction: column;z-index: 1;position: relative;background-color: white;}#sk-container-id-7 div.sk-parallel-item:first-child::after {align-self: flex-end;width: 50%;}#sk-container-id-7 div.sk-parallel-item:last-child::after {align-self: flex-start;width: 50%;}#sk-container-id-7 div.sk-parallel-item:only-child::after {width: 0;}#sk-container-id-7 div.sk-dashed-wrapped {border: 1px dashed gray;margin: 0 0.4em 0.5em 0.4em;box-sizing: border-box;padding-bottom: 0.4em;background-color: white;}#sk-container-id-7 div.sk-label label {font-family: monospace;font-weight: bold;display: inline-block;line-height: 1.2em;}#sk-container-id-7 div.sk-label-container {text-align: center;}#sk-container-id-7 div.sk-container {/* jupyter's `normalize.less` sets `[hidden] { display: none; }` but bootstrap.min.css set `[hidden] { display: none !important; }` so we also need the `!important` here to be able to override the default hidden behavior on the sphinx rendered scikit-learn.org. See: https://github.com/scikit-learn/scikit-learn/issues/21755 */display: inline-block !important;position: relative;}#sk-container-id-7 div.sk-text-repr-fallback {display: none;}</style><div id=\"sk-container-id-7\" class=\"sk-top-container\"><div class=\"sk-text-repr-fallback\"><pre>RandomizedSearchCV(cv=5, estimator=DecisionTreeClassifier(random_state=40),\n",
       "                   param_distributions={&#x27;criterion&#x27;: [&#x27;gini&#x27;, &#x27;entropy&#x27;],\n",
       "                                        &#x27;max_depth&#x27;: [4, 5, 6, 7, 8],\n",
       "                                        &#x27;min_samples_split&#x27;: [8, 10, 12]},\n",
       "                   scoring=&#x27;accuracy&#x27;)</pre><b>In a Jupyter environment, please rerun this cell to show the HTML representation or trust the notebook. <br />On GitHub, the HTML representation is unable to render, please try loading this page with nbviewer.org.</b></div><div class=\"sk-container\" hidden><div class=\"sk-item sk-dashed-wrapped\"><div class=\"sk-label-container\"><div class=\"sk-label sk-toggleable\"><input class=\"sk-toggleable__control sk-hidden--visually\" id=\"sk-estimator-id-11\" type=\"checkbox\" ><label for=\"sk-estimator-id-11\" class=\"sk-toggleable__label sk-toggleable__label-arrow\">RandomizedSearchCV</label><div class=\"sk-toggleable__content\"><pre>RandomizedSearchCV(cv=5, estimator=DecisionTreeClassifier(random_state=40),\n",
       "                   param_distributions={&#x27;criterion&#x27;: [&#x27;gini&#x27;, &#x27;entropy&#x27;],\n",
       "                                        &#x27;max_depth&#x27;: [4, 5, 6, 7, 8],\n",
       "                                        &#x27;min_samples_split&#x27;: [8, 10, 12]},\n",
       "                   scoring=&#x27;accuracy&#x27;)</pre></div></div></div><div class=\"sk-parallel\"><div class=\"sk-parallel-item\"><div class=\"sk-item\"><div class=\"sk-label-container\"><div class=\"sk-label sk-toggleable\"><input class=\"sk-toggleable__control sk-hidden--visually\" id=\"sk-estimator-id-12\" type=\"checkbox\" ><label for=\"sk-estimator-id-12\" class=\"sk-toggleable__label sk-toggleable__label-arrow\">estimator: DecisionTreeClassifier</label><div class=\"sk-toggleable__content\"><pre>DecisionTreeClassifier(random_state=40)</pre></div></div></div><div class=\"sk-serial\"><div class=\"sk-item\"><div class=\"sk-estimator sk-toggleable\"><input class=\"sk-toggleable__control sk-hidden--visually\" id=\"sk-estimator-id-13\" type=\"checkbox\" ><label for=\"sk-estimator-id-13\" class=\"sk-toggleable__label sk-toggleable__label-arrow\">DecisionTreeClassifier</label><div class=\"sk-toggleable__content\"><pre>DecisionTreeClassifier(random_state=40)</pre></div></div></div></div></div></div></div></div></div></div>"
      ],
      "text/plain": [
       "RandomizedSearchCV(cv=5, estimator=DecisionTreeClassifier(random_state=40),\n",
       "                   param_distributions={'criterion': ['gini', 'entropy'],\n",
       "                                        'max_depth': [4, 5, 6, 7, 8],\n",
       "                                        'min_samples_split': [8, 10, 12]},\n",
       "                   scoring='accuracy')"
      ]
     },
     "execution_count": 151,
     "metadata": {},
     "output_type": "execute_result"
    }
   ],
   "source": [
    "dt_base2 = DecisionTreeClassifier(random_state=40)\n",
    "\n",
    "rs1 = RandomizedSearchCV(dt_base2,param_distributions=hparams_dt,scoring='accuracy',cv=5)\n",
    "rs1.fit(x_train,y_train)"
   ]
  },
  {
   "cell_type": "code",
   "execution_count": 152,
   "id": "9fb74420",
   "metadata": {},
   "outputs": [
    {
     "name": "stdout",
     "output_type": "stream",
     "text": [
      "0.7571428571428571\n",
      "{'min_samples_split': 12, 'max_depth': 4, 'criterion': 'entropy'}\n"
     ]
    }
   ],
   "source": [
    "print(rs1.best_score_)\n",
    "print(rs1.best_params_)"
   ]
  },
  {
   "cell_type": "markdown",
   "id": "04dfa097",
   "metadata": {},
   "source": [
    "#### DecisionTreeModel after RandomizedSearch with best combination of hparams"
   ]
  },
  {
   "cell_type": "code",
   "execution_count": 154,
   "id": "aba2b01a",
   "metadata": {},
   "outputs": [
    {
     "name": "stdout",
     "output_type": "stream",
     "text": [
      "[[ 28  54]\n",
      " [ 23 195]]\n",
      "              precision    recall  f1-score   support\n",
      "\n",
      "         bad       0.55      0.34      0.42        82\n",
      "        good       0.78      0.89      0.84       218\n",
      "\n",
      "    accuracy                           0.74       300\n",
      "   macro avg       0.67      0.62      0.63       300\n",
      "weighted avg       0.72      0.74      0.72       300\n",
      "\n"
     ]
    },
    {
     "data": {
      "text/html": [
       "<div>\n",
       "<style scoped>\n",
       "    .dataframe tbody tr th:only-of-type {\n",
       "        vertical-align: middle;\n",
       "    }\n",
       "\n",
       "    .dataframe tbody tr th {\n",
       "        vertical-align: top;\n",
       "    }\n",
       "\n",
       "    .dataframe thead th {\n",
       "        text-align: right;\n",
       "    }\n",
       "</style>\n",
       "<table border=\"1\" class=\"dataframe\">\n",
       "  <thead>\n",
       "    <tr style=\"text-align: right;\">\n",
       "      <th></th>\n",
       "      <th>Train_acc</th>\n",
       "      <th>Test_Acc</th>\n",
       "      <th>Pre_Good</th>\n",
       "      <th>Rec_Good</th>\n",
       "    </tr>\n",
       "  </thead>\n",
       "  <tbody>\n",
       "    <tr>\n",
       "      <th>DT_RS1</th>\n",
       "      <td>0.8</td>\n",
       "      <td>0.743333</td>\n",
       "      <td>0.783133</td>\n",
       "      <td>0.894495</td>\n",
       "    </tr>\n",
       "  </tbody>\n",
       "</table>\n",
       "</div>"
      ],
      "text/plain": [
       "        Train_acc  Test_Acc  Pre_Good  Rec_Good\n",
       "DT_RS1        0.8  0.743333  0.783133  0.894495"
      ]
     },
     "execution_count": 154,
     "metadata": {},
     "output_type": "execute_result"
    }
   ],
   "source": [
    "dt_rs1 = DecisionTreeClassifier(**rs1.best_params_)\n",
    "dt_rs1_res,ypred_dt_rs1 = eval_model(dt_rs1,x_train,x_test,y_train,y_test,'DT_RS1')\n",
    "dt_rs1_res"
   ]
  },
  {
   "cell_type": "code",
   "execution_count": 156,
   "id": "2a9f65d3",
   "metadata": {},
   "outputs": [
    {
     "name": "stdout",
     "output_type": "stream",
     "text": [
      "(10, 16)\n"
     ]
    },
    {
     "data": {
      "text/html": [
       "<div>\n",
       "<style scoped>\n",
       "    .dataframe tbody tr th:only-of-type {\n",
       "        vertical-align: middle;\n",
       "    }\n",
       "\n",
       "    .dataframe tbody tr th {\n",
       "        vertical-align: top;\n",
       "    }\n",
       "\n",
       "    .dataframe thead th {\n",
       "        text-align: right;\n",
       "    }\n",
       "</style>\n",
       "<table border=\"1\" class=\"dataframe\">\n",
       "  <thead>\n",
       "    <tr style=\"text-align: right;\">\n",
       "      <th></th>\n",
       "      <th>mean_fit_time</th>\n",
       "      <th>std_fit_time</th>\n",
       "      <th>mean_score_time</th>\n",
       "      <th>std_score_time</th>\n",
       "      <th>param_min_samples_split</th>\n",
       "      <th>param_max_depth</th>\n",
       "      <th>param_criterion</th>\n",
       "      <th>params</th>\n",
       "      <th>split0_test_score</th>\n",
       "      <th>split1_test_score</th>\n",
       "      <th>split2_test_score</th>\n",
       "      <th>split3_test_score</th>\n",
       "      <th>split4_test_score</th>\n",
       "      <th>mean_test_score</th>\n",
       "      <th>std_test_score</th>\n",
       "      <th>rank_test_score</th>\n",
       "    </tr>\n",
       "  </thead>\n",
       "  <tbody>\n",
       "    <tr>\n",
       "      <th>0</th>\n",
       "      <td>0.008195</td>\n",
       "      <td>0.001830</td>\n",
       "      <td>0.005596</td>\n",
       "      <td>0.001623</td>\n",
       "      <td>10</td>\n",
       "      <td>4</td>\n",
       "      <td>entropy</td>\n",
       "      <td>{'min_samples_split': 10, 'max_depth': 4, 'cri...</td>\n",
       "      <td>0.771429</td>\n",
       "      <td>0.721429</td>\n",
       "      <td>0.778571</td>\n",
       "      <td>0.735714</td>\n",
       "      <td>0.771429</td>\n",
       "      <td>0.755714</td>\n",
       "      <td>0.022768</td>\n",
       "      <td>2</td>\n",
       "    </tr>\n",
       "    <tr>\n",
       "      <th>1</th>\n",
       "      <td>0.008994</td>\n",
       "      <td>0.002827</td>\n",
       "      <td>0.004379</td>\n",
       "      <td>0.001868</td>\n",
       "      <td>12</td>\n",
       "      <td>4</td>\n",
       "      <td>entropy</td>\n",
       "      <td>{'min_samples_split': 12, 'max_depth': 4, 'cri...</td>\n",
       "      <td>0.771429</td>\n",
       "      <td>0.721429</td>\n",
       "      <td>0.778571</td>\n",
       "      <td>0.742857</td>\n",
       "      <td>0.771429</td>\n",
       "      <td>0.757143</td>\n",
       "      <td>0.021665</td>\n",
       "      <td>1</td>\n",
       "    </tr>\n",
       "    <tr>\n",
       "      <th>2</th>\n",
       "      <td>0.007595</td>\n",
       "      <td>0.002725</td>\n",
       "      <td>0.003399</td>\n",
       "      <td>0.000799</td>\n",
       "      <td>12</td>\n",
       "      <td>4</td>\n",
       "      <td>gini</td>\n",
       "      <td>{'min_samples_split': 12, 'max_depth': 4, 'cri...</td>\n",
       "      <td>0.778571</td>\n",
       "      <td>0.721429</td>\n",
       "      <td>0.778571</td>\n",
       "      <td>0.742857</td>\n",
       "      <td>0.757143</td>\n",
       "      <td>0.755714</td>\n",
       "      <td>0.021853</td>\n",
       "      <td>2</td>\n",
       "    </tr>\n",
       "    <tr>\n",
       "      <th>3</th>\n",
       "      <td>0.004997</td>\n",
       "      <td>0.000894</td>\n",
       "      <td>0.003400</td>\n",
       "      <td>0.000799</td>\n",
       "      <td>8</td>\n",
       "      <td>4</td>\n",
       "      <td>gini</td>\n",
       "      <td>{'min_samples_split': 8, 'max_depth': 4, 'crit...</td>\n",
       "      <td>0.778571</td>\n",
       "      <td>0.721429</td>\n",
       "      <td>0.764286</td>\n",
       "      <td>0.735714</td>\n",
       "      <td>0.757143</td>\n",
       "      <td>0.751429</td>\n",
       "      <td>0.020404</td>\n",
       "      <td>6</td>\n",
       "    </tr>\n",
       "    <tr>\n",
       "      <th>4</th>\n",
       "      <td>0.005601</td>\n",
       "      <td>0.001205</td>\n",
       "      <td>0.003394</td>\n",
       "      <td>0.001495</td>\n",
       "      <td>8</td>\n",
       "      <td>4</td>\n",
       "      <td>entropy</td>\n",
       "      <td>{'min_samples_split': 8, 'max_depth': 4, 'crit...</td>\n",
       "      <td>0.771429</td>\n",
       "      <td>0.721429</td>\n",
       "      <td>0.778571</td>\n",
       "      <td>0.735714</td>\n",
       "      <td>0.771429</td>\n",
       "      <td>0.755714</td>\n",
       "      <td>0.022768</td>\n",
       "      <td>2</td>\n",
       "    </tr>\n",
       "  </tbody>\n",
       "</table>\n",
       "</div>"
      ],
      "text/plain": [
       "   mean_fit_time  std_fit_time  mean_score_time  std_score_time  \\\n",
       "0       0.008195      0.001830         0.005596        0.001623   \n",
       "1       0.008994      0.002827         0.004379        0.001868   \n",
       "2       0.007595      0.002725         0.003399        0.000799   \n",
       "3       0.004997      0.000894         0.003400        0.000799   \n",
       "4       0.005601      0.001205         0.003394        0.001495   \n",
       "\n",
       "  param_min_samples_split param_max_depth param_criterion  \\\n",
       "0                      10               4         entropy   \n",
       "1                      12               4         entropy   \n",
       "2                      12               4            gini   \n",
       "3                       8               4            gini   \n",
       "4                       8               4         entropy   \n",
       "\n",
       "                                              params  split0_test_score  \\\n",
       "0  {'min_samples_split': 10, 'max_depth': 4, 'cri...           0.771429   \n",
       "1  {'min_samples_split': 12, 'max_depth': 4, 'cri...           0.771429   \n",
       "2  {'min_samples_split': 12, 'max_depth': 4, 'cri...           0.778571   \n",
       "3  {'min_samples_split': 8, 'max_depth': 4, 'crit...           0.778571   \n",
       "4  {'min_samples_split': 8, 'max_depth': 4, 'crit...           0.771429   \n",
       "\n",
       "   split1_test_score  split2_test_score  split3_test_score  split4_test_score  \\\n",
       "0           0.721429           0.778571           0.735714           0.771429   \n",
       "1           0.721429           0.778571           0.742857           0.771429   \n",
       "2           0.721429           0.778571           0.742857           0.757143   \n",
       "3           0.721429           0.764286           0.735714           0.757143   \n",
       "4           0.721429           0.778571           0.735714           0.771429   \n",
       "\n",
       "   mean_test_score  std_test_score  rank_test_score  \n",
       "0         0.755714        0.022768                2  \n",
       "1         0.757143        0.021665                1  \n",
       "2         0.755714        0.021853                2  \n",
       "3         0.751429        0.020404                6  \n",
       "4         0.755714        0.022768                2  "
      ]
     },
     "execution_count": 156,
     "metadata": {},
     "output_type": "execute_result"
    }
   ],
   "source": [
    "rs_res = pd.DataFrame(rs1.cv_results_)\n",
    "print(rs_res.shape)\n",
    "rs_res.head()"
   ]
  },
  {
   "cell_type": "code",
   "execution_count": null,
   "id": "c7ca74c4",
   "metadata": {},
   "outputs": [],
   "source": []
  }
 ],
 "metadata": {
  "kernelspec": {
   "display_name": "Python 3 (ipykernel)",
   "language": "python",
   "name": "python3"
  },
  "language_info": {
   "codemirror_mode": {
    "name": "ipython",
    "version": 3
   },
   "file_extension": ".py",
   "mimetype": "text/x-python",
   "name": "python",
   "nbconvert_exporter": "python",
   "pygments_lexer": "ipython3",
   "version": "3.10.9"
  }
 },
 "nbformat": 4,
 "nbformat_minor": 5
}
